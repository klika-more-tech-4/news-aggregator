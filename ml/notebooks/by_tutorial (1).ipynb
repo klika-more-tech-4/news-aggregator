{
 "cells": [
  {
   "cell_type": "code",
   "execution_count": 3,
   "metadata": {
    "id": "Vz7K4L075EgB"
   },
   "outputs": [],
   "source": [
    "%%capture\n",
    "! pip install pyLDAvis\n",
    "! pip install pymorphy2"
   ]
  },
  {
   "cell_type": "code",
   "execution_count": 33,
   "metadata": {
    "colab": {
     "base_uri": "https://localhost:8080/"
    },
    "id": "sRUSZAPn5J2b",
    "outputId": "eb39a5f2-03ce-4a1b-e404-615f976235e9"
   },
   "outputs": [
    {
     "name": "stderr",
     "output_type": "stream",
     "text": [
      "[nltk_data] Error loading stopwords: <urlopen error [Errno 104]\n",
      "[nltk_data]     Connection reset by peer>\n"
     ]
    }
   ],
   "source": [
    "from gensim.test.utils import common_corpus\n",
    "from gensim.models import LdaSeqModel\n",
    "import gensim\n",
    "import pickle\n",
    "import pyLDAvis.gensim_models as gensimvis\n",
    "import pyLDAvis\n",
    "import warnings\n",
    "import json\n",
    "import pymorphy2\n",
    "import nltk\n",
    "import re \n",
    "from tqdm.notebook import tqdm\n",
    "from nltk.corpus import stopwords\n",
    "from pymystem3 import Mystem\n",
    "from string import punctuation\n",
    "import nltk\n",
    "from nltk import ngrams\n",
    "import time\n",
    "import dateutil.parser as dp\n",
    "nltk.download('stopwords')\n",
    "import pandas as pd\n",
    "from sklearn.model_selection import train_test_split\n",
    "import datetime\n",
    "import numpy as np\n",
    "from sklearn.metrics.pairwise import cosine_similarity\n",
    "from gensim.models import KeyedVectors\n",
    "from typing import List\n",
    "import numpy as np\n",
    "\n",
    "russian_stopwords = stopwords.words(\"russian\")\n",
    "warnings.filterwarnings(\"ignore\", category=DeprecationWarning)\n",
    "warnings.filterwarnings(\"ignore\", category=RuntimeWarning)"
   ]
  },
  {
   "cell_type": "code",
   "execution_count": 75,
   "metadata": {
    "id": "wCB47TL05KLj"
   },
   "outputs": [],
   "source": [
    "row_data = pd.read_json('/home/jovyan/work/outputs_upd.jsonl', lines = True, orient = 'records')"
   ]
  },
  {
   "cell_type": "code",
   "execution_count": 76,
   "metadata": {
    "id": "xwYczwZe5Mw_"
   },
   "outputs": [],
   "source": [
    "class Preparator():\n",
    "    def __init__(self):\n",
    "        self.morph = pymorphy2.MorphAnalyzer()\n",
    "        self.tokenizer = nltk.WordPunctTokenizer()\n",
    "        self.regexp = re.compile('[-%-,_\\.\\n\\\\\\t\\r/\\W]')  # оставляет только буквы и цифры\n",
    "        self.pos_decoder = {\"ADJF\": \"ADJ\",\n",
    "                            'ADJS': 'ADJ',\n",
    "                            'COMP': 'ADJ',\n",
    "                            'INFN': 'VERB',\n",
    "                            'PRTF': 'VERB'}\n",
    "\n",
    "    def norm_word(self, word: str) -> str:\n",
    "        w = str(re.sub(' +', ' ', self.regexp.sub(' ', word.lower()))).strip()\n",
    "        if len(w) > 1 and w[0].isalpha():\n",
    "            parsed = self.morph.parse(w)[0]\n",
    "            tag = str(parsed.tag.POS)\n",
    "            if tag not in ['NPRO', 'PRED', 'PREP', 'CONJ', 'PRCL', 'INTJ', 'VERB']:\n",
    "                tag = tag if tag not in self.pos_decoder else self.pos_decoder[tag]\n",
    "                return parsed.normal_form.replace('ё', 'e')\n",
    "        return ''\n",
    "    \n",
    "    def norm_sentence(self, sentence: str):\n",
    "        tokens = list(filter(lambda x: len(x), [self.norm_word(word) for word in self.tokenizer.tokenize(sentence.lower())]))\n",
    "        # bigrams = ['_'.join(w) for w in  ngrams(tokens,n=2)]\n",
    "        return tokens\n",
    "    \n",
    "        "
   ]
  },
  {
   "cell_type": "code",
   "execution_count": 77,
   "metadata": {},
   "outputs": [],
   "source": [
    "def extract_keywords(tokens: List[str],\n",
    "                     embeddings: KeyedVectors,\n",
    "                     top_n: int = 5,\n",
    "                     diversity: float = 0.5,\n",
    "                     nr_candidates: int = 20) -> str:\n",
    "    candidates = []\n",
    "    doc_embedding = text2vec(tokens, embeddings).reshape(1, -1)\n",
    "    candidate_embeddings = []\n",
    "    for candidate in tokens:\n",
    "        if candidate in embeddings:\n",
    "            candidates.append(candidate)\n",
    "            candidate_embeddings.append(embeddings[candidate])\n",
    "\n",
    "    if len(candidates) == 0:\n",
    "        return tokens\n",
    "\n",
    "    # Calculate distances and extract keywords\n",
    "    distances = cosine_similarity(np.nan_to_num(doc_embedding), np.nan_to_num(candidate_embeddings))\n",
    "    keywords = [candidates[index] for index in distances.argsort()[0][-top_n:]][::-1]\n",
    "\n",
    "    return list(set(keywords))\n",
    "\n",
    "def text2vec(tokens: List[str], embeddings: KeyedVectors) -> np.ndarray:\n",
    "    relevant = 0\n",
    "    words_vecs = np.zeros((embeddings.vector_size,))\n",
    "    for word in tokens:\n",
    "        if word in embeddings:\n",
    "            words_vecs += embeddings.word_vec(word, True)\n",
    "            relevant += 1\n",
    "\n",
    "    if relevant:\n",
    "        words_vecs /= relevant\n",
    "    return words_vecs"
   ]
  },
  {
   "cell_type": "code",
   "execution_count": 78,
   "metadata": {
    "colab": {
     "base_uri": "https://localhost:8080/",
     "height": 49,
     "referenced_widgets": [
      "bc3f44b5a3c044858a4fae6f5b362e03",
      "5d2626b254284bf1bb4c04f4b8d45742",
      "1b7505b94c8d44d1a64c47b7c63f9191",
      "4c537c61085b47379f52a862f61ad090",
      "95f08a05a7c440f58dabf97a12cb9ca5",
      "42d25e5ee5704892ac62fde0c88d747b",
      "29253cb021f84cd6acd84816dc33107e",
      "22239460fa68406d98e8e74c98960c3d",
      "28404e27c6b24416b702a631edb3f9b5",
      "8790e77f448043da87bdef134629002a",
      "3d588b46eb534927bbfa5c87bf7cd927"
     ]
    },
    "id": "3Ye_dn705RGk",
    "outputId": "1329261e-b27c-4eb6-dc20-5139a8125560"
   },
   "outputs": [
    {
     "data": {
      "application/vnd.jupyter.widget-view+json": {
       "model_id": "5d3f9fb3081b4b6083201986ca88e5fe",
       "version_major": 2,
       "version_minor": 0
      },
      "text/plain": [
       "  0%|          | 0/119228 [00:00<?, ?it/s]"
      ]
     },
     "metadata": {},
     "output_type": "display_data"
    }
   ],
   "source": [
    "W2V_SOURCE = \"/home/jovyan/work/custom_word2vec_uncod.bin\" # Путь к файлу custom_word2vec_uncod.bin\n",
    "prep = Preparator()\n",
    "w2v = KeyedVectors.load_word2vec_format(\n",
    "            W2V_SOURCE, binary=True, unicode_errors=\"ignore\"\n",
    "        )\n",
    "texts = [prep.norm_sentence(i) if i else [] for i in tqdm(row_data['title'])]\n"
   ]
  },
  {
   "cell_type": "code",
   "execution_count": 79,
   "metadata": {
    "colab": {
     "base_uri": "https://localhost:8080/"
    },
    "id": "q2Gmbm4d51p6",
    "outputId": "08d500ba-4238-44b3-d1c1-810de87705b1"
   },
   "outputs": [],
   "source": [
    "from gensim.models import Phrases\n",
    "\n",
    "# Add bigrams and trigrams to docs (only ones that appear 20 times or more).\n",
    "bigram = Phrases(texts, min_count=20)\n",
    "for idx in range(len(texts)):\n",
    "    for token in bigram[texts[idx]]:\n",
    "        if '_' in token:\n",
    "            # Token is a bigram, add to document.\n",
    "            texts[idx].append(token)"
   ]
  },
  {
   "cell_type": "code",
   "execution_count": 91,
   "metadata": {},
   "outputs": [],
   "source": [
    "bigram.freeze().save(\"/home/jovyan/work/phrases_model_last.pkl\")"
   ]
  },
  {
   "cell_type": "code",
   "execution_count": 81,
   "metadata": {},
   "outputs": [],
   "source": [
    "from gensim.test.utils import common_texts\n",
    "from gensim.models import Word2Vec\n",
    "\n",
    "model = Word2Vec(sentences=texts, vector_size=100, window=5, min_count=1, workers=4)\n",
    "model.wv.save_word2vec_format(\"/home/jovyan/work/word2vec_moretech.bin\", binary = True)"
   ]
  },
  {
   "cell_type": "code",
   "execution_count": 82,
   "metadata": {},
   "outputs": [
    {
     "data": {
      "application/vnd.jupyter.widget-view+json": {
       "model_id": "f3d18340481840b88b1ea50de61ece80",
       "version_major": 2,
       "version_minor": 0
      },
      "text/plain": [
       "  0%|          | 0/119228 [00:00<?, ?it/s]"
      ]
     },
     "metadata": {},
     "output_type": "display_data"
    }
   ],
   "source": [
    "texts = [extract_keywords(i, model.wv, 10) for i in tqdm(texts)]"
   ]
  },
  {
   "cell_type": "code",
   "execution_count": 83,
   "metadata": {
    "id": "O6lL2Vrd57Za"
   },
   "outputs": [],
   "source": [
    "from gensim.corpora import Dictionary\n",
    "\n",
    "# Create a dictionary representation of the documents.\n",
    "dictionary = Dictionary(texts)\n",
    "\n",
    "# Filter out words that occur less than 20 documents, or more than 50% of the documents.\n",
    "dictionary.filter_extremes(no_below=3, no_above=0.5)\n"
   ]
  },
  {
   "cell_type": "code",
   "execution_count": 92,
   "metadata": {},
   "outputs": [],
   "source": [
    "dictionary.save(\"/home/jovyan/work/dictionary_last.pkl\")"
   ]
  },
  {
   "cell_type": "code",
   "execution_count": 85,
   "metadata": {
    "id": "2GlsEk216Cd2"
   },
   "outputs": [],
   "source": [
    "corpus = [dictionary.doc2bow(doc) for doc in texts]"
   ]
  },
  {
   "cell_type": "code",
   "execution_count": 86,
   "metadata": {
    "colab": {
     "base_uri": "https://localhost:8080/"
    },
    "id": "DI8NjRFC6J6r",
    "outputId": "852b7c71-7989-4e70-d814-5faf76f85786"
   },
   "outputs": [
    {
     "name": "stdout",
     "output_type": "stream",
     "text": [
      "Number of unique tokens: 14534\n",
      "Number of documents: 119228\n"
     ]
    }
   ],
   "source": [
    "print('Number of unique tokens: %d' % len(dictionary))\n",
    "print('Number of documents: %d' % len(corpus))"
   ]
  },
  {
   "cell_type": "code",
   "execution_count": 87,
   "metadata": {
    "colab": {
     "base_uri": "https://localhost:8080/"
    },
    "id": "U0b3tNXl6Lxw",
    "outputId": "bb4088c0-642d-4bf5-9c0d-fc83aebb94c9"
   },
   "outputs": [],
   "source": [
    "# Train LDA model.\n",
    "from gensim.models import LdaModel\n",
    "\n",
    "# Set training parameters.\n",
    "num_topics = 10\n",
    "chunksize = 2000\n",
    "passes = 20\n",
    "iterations = 1000\n",
    "eval_every = None  # Don't evaluate model perplexity, takes too much time.\n",
    "\n",
    "# Make an index to word dictionary.\n",
    "temp = dictionary[0]  # This is only to \"load\" the dictionary.\n",
    "id2word = dictionary.id2token\n",
    "\n",
    "model = LdaModel(\n",
    "    corpus=corpus,\n",
    "    id2word=id2word,\n",
    "    chunksize=chunksize,\n",
    "    alpha='auto',\n",
    "    eta='auto',\n",
    "    iterations=iterations,\n",
    "    num_topics=num_topics,\n",
    "    passes=passes,\n",
    "    eval_every=eval_every\n",
    ")"
   ]
  },
  {
   "cell_type": "code",
   "execution_count": 88,
   "metadata": {
    "id": "UDeXMDr46Pe2"
   },
   "outputs": [
    {
     "name": "stderr",
     "output_type": "stream",
     "text": [
      "/opt/conda/lib/python3.9/site-packages/pyLDAvis/_prepare.py:246: FutureWarning: In a future version of pandas all arguments of DataFrame.drop except for the argument 'labels' will be keyword-only.\n",
      "  default_term_info = default_term_info.sort_values(\n",
      "/opt/conda/lib/python3.9/site-packages/past/builtins/misc.py:45: DeprecationWarning: the imp module is deprecated in favour of importlib; see the module's documentation for alternative uses\n",
      "  from imp import reload\n",
      "/opt/conda/lib/python3.9/site-packages/past/builtins/misc.py:45: DeprecationWarning: the imp module is deprecated in favour of importlib; see the module's documentation for alternative uses\n",
      "  from imp import reload\n",
      "/opt/conda/lib/python3.9/site-packages/joblib/backports.py:36: DeprecationWarning: distutils Version classes are deprecated. Use packaging.version instead.\n",
      "  if LooseVersion(np.__version__) < '1.13':\n",
      "/opt/conda/lib/python3.9/site-packages/setuptools/_distutils/version.py:346: DeprecationWarning: distutils Version classes are deprecated. Use packaging.version instead.\n",
      "  other = LooseVersion(other)\n",
      "/opt/conda/lib/python3.9/site-packages/joblib/backports.py:36: DeprecationWarning: distutils Version classes are deprecated. Use packaging.version instead.\n",
      "  if LooseVersion(np.__version__) < '1.13':\n",
      "/opt/conda/lib/python3.9/site-packages/setuptools/_distutils/version.py:346: DeprecationWarning: distutils Version classes are deprecated. Use packaging.version instead.\n",
      "  other = LooseVersion(other)\n",
      "/opt/conda/lib/python3.9/site-packages/joblib/backports.py:36: DeprecationWarning: distutils Version classes are deprecated. Use packaging.version instead.\n",
      "  if LooseVersion(np.__version__) < '1.13':\n",
      "/opt/conda/lib/python3.9/site-packages/setuptools/_distutils/version.py:346: DeprecationWarning: distutils Version classes are deprecated. Use packaging.version instead.\n",
      "  other = LooseVersion(other)\n",
      "/opt/conda/lib/python3.9/site-packages/joblib/backports.py:36: DeprecationWarning: distutils Version classes are deprecated. Use packaging.version instead.\n",
      "  if LooseVersion(np.__version__) < '1.13':\n",
      "/opt/conda/lib/python3.9/site-packages/setuptools/_distutils/version.py:346: DeprecationWarning: distutils Version classes are deprecated. Use packaging.version instead.\n",
      "  other = LooseVersion(other)\n",
      "/opt/conda/lib/python3.9/site-packages/joblib/backports.py:36: DeprecationWarning: distutils Version classes are deprecated. Use packaging.version instead.\n",
      "  if LooseVersion(np.__version__) < '1.13':\n",
      "/opt/conda/lib/python3.9/site-packages/setuptools/_distutils/version.py:346: DeprecationWarning: distutils Version classes are deprecated. Use packaging.version instead.\n",
      "  other = LooseVersion(other)\n",
      "/opt/conda/lib/python3.9/site-packages/joblib/backports.py:36: DeprecationWarning: distutils Version classes are deprecated. Use packaging.version instead.\n",
      "  if LooseVersion(np.__version__) < '1.13':\n",
      "/opt/conda/lib/python3.9/site-packages/setuptools/_distutils/version.py:346: DeprecationWarning: distutils Version classes are deprecated. Use packaging.version instead.\n",
      "  other = LooseVersion(other)\n",
      "/opt/conda/lib/python3.9/site-packages/joblib/backports.py:36: DeprecationWarning: distutils Version classes are deprecated. Use packaging.version instead.\n",
      "  if LooseVersion(np.__version__) < '1.13':\n",
      "/opt/conda/lib/python3.9/site-packages/setuptools/_distutils/version.py:346: DeprecationWarning: distutils Version classes are deprecated. Use packaging.version instead.\n",
      "  other = LooseVersion(other)\n",
      "/opt/conda/lib/python3.9/site-packages/joblib/backports.py:36: DeprecationWarning: distutils Version classes are deprecated. Use packaging.version instead.\n",
      "  if LooseVersion(np.__version__) < '1.13':\n",
      "/opt/conda/lib/python3.9/site-packages/setuptools/_distutils/version.py:346: DeprecationWarning: distutils Version classes are deprecated. Use packaging.version instead.\n",
      "  other = LooseVersion(other)\n",
      "/opt/conda/lib/python3.9/site-packages/joblib/backports.py:36: DeprecationWarning: distutils Version classes are deprecated. Use packaging.version instead.\n",
      "  if LooseVersion(np.__version__) < '1.13':\n",
      "/opt/conda/lib/python3.9/site-packages/setuptools/_distutils/version.py:346: DeprecationWarning: distutils Version classes are deprecated. Use packaging.version instead.\n",
      "  other = LooseVersion(other)\n",
      "/opt/conda/lib/python3.9/site-packages/joblib/backports.py:36: DeprecationWarning: distutils Version classes are deprecated. Use packaging.version instead.\n",
      "  if LooseVersion(np.__version__) < '1.13':\n",
      "/opt/conda/lib/python3.9/site-packages/setuptools/_distutils/version.py:346: DeprecationWarning: distutils Version classes are deprecated. Use packaging.version instead.\n",
      "  other = LooseVersion(other)\n",
      "/opt/conda/lib/python3.9/site-packages/joblib/backports.py:36: DeprecationWarning: distutils Version classes are deprecated. Use packaging.version instead.\n",
      "  if LooseVersion(np.__version__) < '1.13':\n",
      "/opt/conda/lib/python3.9/site-packages/setuptools/_distutils/version.py:346: DeprecationWarning: distutils Version classes are deprecated. Use packaging.version instead.\n",
      "  other = LooseVersion(other)\n",
      "/opt/conda/lib/python3.9/site-packages/joblib/backports.py:36: DeprecationWarning: distutils Version classes are deprecated. Use packaging.version instead.\n",
      "  if LooseVersion(np.__version__) < '1.13':\n",
      "/opt/conda/lib/python3.9/site-packages/setuptools/_distutils/version.py:346: DeprecationWarning: distutils Version classes are deprecated. Use packaging.version instead.\n",
      "  other = LooseVersion(other)\n",
      "/opt/conda/lib/python3.9/site-packages/joblib/backports.py:36: DeprecationWarning: distutils Version classes are deprecated. Use packaging.version instead.\n",
      "  if LooseVersion(np.__version__) < '1.13':\n",
      "/opt/conda/lib/python3.9/site-packages/setuptools/_distutils/version.py:346: DeprecationWarning: distutils Version classes are deprecated. Use packaging.version instead.\n",
      "  other = LooseVersion(other)\n",
      "/opt/conda/lib/python3.9/site-packages/joblib/backports.py:36: DeprecationWarning: distutils Version classes are deprecated. Use packaging.version instead.\n",
      "  if LooseVersion(np.__version__) < '1.13':\n",
      "/opt/conda/lib/python3.9/site-packages/setuptools/_distutils/version.py:346: DeprecationWarning: distutils Version classes are deprecated. Use packaging.version instead.\n",
      "  other = LooseVersion(other)\n",
      "/opt/conda/lib/python3.9/site-packages/joblib/backports.py:36: DeprecationWarning: distutils Version classes are deprecated. Use packaging.version instead.\n",
      "  if LooseVersion(np.__version__) < '1.13':\n",
      "/opt/conda/lib/python3.9/site-packages/setuptools/_distutils/version.py:346: DeprecationWarning: distutils Version classes are deprecated. Use packaging.version instead.\n",
      "  other = LooseVersion(other)\n",
      "/opt/conda/lib/python3.9/site-packages/joblib/backports.py:36: DeprecationWarning: distutils Version classes are deprecated. Use packaging.version instead.\n",
      "  if LooseVersion(np.__version__) < '1.13':\n",
      "/opt/conda/lib/python3.9/site-packages/setuptools/_distutils/version.py:346: DeprecationWarning: distutils Version classes are deprecated. Use packaging.version instead.\n",
      "  other = LooseVersion(other)\n",
      "/opt/conda/lib/python3.9/site-packages/joblib/backports.py:36: DeprecationWarning: distutils Version classes are deprecated. Use packaging.version instead.\n",
      "  if LooseVersion(np.__version__) < '1.13':\n",
      "/opt/conda/lib/python3.9/site-packages/setuptools/_distutils/version.py:346: DeprecationWarning: distutils Version classes are deprecated. Use packaging.version instead.\n",
      "  other = LooseVersion(other)\n",
      "/opt/conda/lib/python3.9/site-packages/joblib/backports.py:36: DeprecationWarning: distutils Version classes are deprecated. Use packaging.version instead.\n",
      "  if LooseVersion(np.__version__) < '1.13':\n",
      "/opt/conda/lib/python3.9/site-packages/setuptools/_distutils/version.py:346: DeprecationWarning: distutils Version classes are deprecated. Use packaging.version instead.\n",
      "  other = LooseVersion(other)\n",
      "/opt/conda/lib/python3.9/site-packages/joblib/backports.py:36: DeprecationWarning: distutils Version classes are deprecated. Use packaging.version instead.\n",
      "  if LooseVersion(np.__version__) < '1.13':\n",
      "/opt/conda/lib/python3.9/site-packages/setuptools/_distutils/version.py:346: DeprecationWarning: distutils Version classes are deprecated. Use packaging.version instead.\n",
      "  other = LooseVersion(other)\n",
      "/opt/conda/lib/python3.9/site-packages/joblib/backports.py:36: DeprecationWarning: distutils Version classes are deprecated. Use packaging.version instead.\n",
      "  if LooseVersion(np.__version__) < '1.13':\n",
      "/opt/conda/lib/python3.9/site-packages/setuptools/_distutils/version.py:346: DeprecationWarning: distutils Version classes are deprecated. Use packaging.version instead.\n",
      "  other = LooseVersion(other)\n",
      "/opt/conda/lib/python3.9/site-packages/joblib/backports.py:36: DeprecationWarning: distutils Version classes are deprecated. Use packaging.version instead.\n",
      "  if LooseVersion(np.__version__) < '1.13':\n",
      "/opt/conda/lib/python3.9/site-packages/setuptools/_distutils/version.py:346: DeprecationWarning: distutils Version classes are deprecated. Use packaging.version instead.\n",
      "  other = LooseVersion(other)\n",
      "/opt/conda/lib/python3.9/site-packages/joblib/backports.py:36: DeprecationWarning: distutils Version classes are deprecated. Use packaging.version instead.\n",
      "  if LooseVersion(np.__version__) < '1.13':\n",
      "/opt/conda/lib/python3.9/site-packages/setuptools/_distutils/version.py:346: DeprecationWarning: distutils Version classes are deprecated. Use packaging.version instead.\n",
      "  other = LooseVersion(other)\n",
      "/opt/conda/lib/python3.9/site-packages/joblib/backports.py:36: DeprecationWarning: distutils Version classes are deprecated. Use packaging.version instead.\n",
      "  if LooseVersion(np.__version__) < '1.13':\n",
      "/opt/conda/lib/python3.9/site-packages/setuptools/_distutils/version.py:346: DeprecationWarning: distutils Version classes are deprecated. Use packaging.version instead.\n",
      "  other = LooseVersion(other)\n",
      "/opt/conda/lib/python3.9/site-packages/joblib/backports.py:36: DeprecationWarning: distutils Version classes are deprecated. Use packaging.version instead.\n",
      "  if LooseVersion(np.__version__) < '1.13':\n",
      "/opt/conda/lib/python3.9/site-packages/setuptools/_distutils/version.py:346: DeprecationWarning: distutils Version classes are deprecated. Use packaging.version instead.\n",
      "  other = LooseVersion(other)\n",
      "/opt/conda/lib/python3.9/site-packages/joblib/backports.py:36: DeprecationWarning: distutils Version classes are deprecated. Use packaging.version instead.\n",
      "  if LooseVersion(np.__version__) < '1.13':\n",
      "/opt/conda/lib/python3.9/site-packages/setuptools/_distutils/version.py:346: DeprecationWarning: distutils Version classes are deprecated. Use packaging.version instead.\n",
      "  other = LooseVersion(other)\n",
      "/opt/conda/lib/python3.9/site-packages/joblib/backports.py:36: DeprecationWarning: distutils Version classes are deprecated. Use packaging.version instead.\n",
      "  if LooseVersion(np.__version__) < '1.13':\n",
      "/opt/conda/lib/python3.9/site-packages/setuptools/_distutils/version.py:346: DeprecationWarning: distutils Version classes are deprecated. Use packaging.version instead.\n",
      "  other = LooseVersion(other)\n",
      "/opt/conda/lib/python3.9/site-packages/joblib/backports.py:36: DeprecationWarning: distutils Version classes are deprecated. Use packaging.version instead.\n",
      "  if LooseVersion(np.__version__) < '1.13':\n",
      "/opt/conda/lib/python3.9/site-packages/setuptools/_distutils/version.py:346: DeprecationWarning: distutils Version classes are deprecated. Use packaging.version instead.\n",
      "  other = LooseVersion(other)\n",
      "/opt/conda/lib/python3.9/site-packages/joblib/backports.py:36: DeprecationWarning: distutils Version classes are deprecated. Use packaging.version instead.\n",
      "  if LooseVersion(np.__version__) < '1.13':\n",
      "/opt/conda/lib/python3.9/site-packages/setuptools/_distutils/version.py:346: DeprecationWarning: distutils Version classes are deprecated. Use packaging.version instead.\n",
      "  other = LooseVersion(other)\n",
      "/opt/conda/lib/python3.9/site-packages/joblib/backports.py:36: DeprecationWarning: distutils Version classes are deprecated. Use packaging.version instead.\n",
      "  if LooseVersion(np.__version__) < '1.13':\n",
      "/opt/conda/lib/python3.9/site-packages/setuptools/_distutils/version.py:346: DeprecationWarning: distutils Version classes are deprecated. Use packaging.version instead.\n",
      "  other = LooseVersion(other)\n",
      "/opt/conda/lib/python3.9/site-packages/joblib/backports.py:36: DeprecationWarning: distutils Version classes are deprecated. Use packaging.version instead.\n",
      "  if LooseVersion(np.__version__) < '1.13':\n",
      "/opt/conda/lib/python3.9/site-packages/setuptools/_distutils/version.py:346: DeprecationWarning: distutils Version classes are deprecated. Use packaging.version instead.\n",
      "  other = LooseVersion(other)\n",
      "/opt/conda/lib/python3.9/site-packages/joblib/backports.py:36: DeprecationWarning: distutils Version classes are deprecated. Use packaging.version instead.\n",
      "  if LooseVersion(np.__version__) < '1.13':\n",
      "/opt/conda/lib/python3.9/site-packages/setuptools/_distutils/version.py:346: DeprecationWarning: distutils Version classes are deprecated. Use packaging.version instead.\n",
      "  other = LooseVersion(other)\n",
      "/opt/conda/lib/python3.9/site-packages/joblib/backports.py:36: DeprecationWarning: distutils Version classes are deprecated. Use packaging.version instead.\n",
      "  if LooseVersion(np.__version__) < '1.13':\n",
      "/opt/conda/lib/python3.9/site-packages/setuptools/_distutils/version.py:346: DeprecationWarning: distutils Version classes are deprecated. Use packaging.version instead.\n",
      "  other = LooseVersion(other)\n",
      "/opt/conda/lib/python3.9/site-packages/joblib/backports.py:36: DeprecationWarning: distutils Version classes are deprecated. Use packaging.version instead.\n",
      "  if LooseVersion(np.__version__) < '1.13':\n",
      "/opt/conda/lib/python3.9/site-packages/setuptools/_distutils/version.py:346: DeprecationWarning: distutils Version classes are deprecated. Use packaging.version instead.\n",
      "  other = LooseVersion(other)\n",
      "/opt/conda/lib/python3.9/site-packages/joblib/backports.py:36: DeprecationWarning: distutils Version classes are deprecated. Use packaging.version instead.\n",
      "  if LooseVersion(np.__version__) < '1.13':\n",
      "/opt/conda/lib/python3.9/site-packages/setuptools/_distutils/version.py:346: DeprecationWarning: distutils Version classes are deprecated. Use packaging.version instead.\n",
      "  other = LooseVersion(other)\n",
      "/opt/conda/lib/python3.9/site-packages/joblib/backports.py:36: DeprecationWarning: distutils Version classes are deprecated. Use packaging.version instead.\n",
      "  if LooseVersion(np.__version__) < '1.13':\n",
      "/opt/conda/lib/python3.9/site-packages/setuptools/_distutils/version.py:346: DeprecationWarning: distutils Version classes are deprecated. Use packaging.version instead.\n",
      "  other = LooseVersion(other)\n",
      "/opt/conda/lib/python3.9/site-packages/joblib/backports.py:36: DeprecationWarning: distutils Version classes are deprecated. Use packaging.version instead.\n",
      "  if LooseVersion(np.__version__) < '1.13':\n",
      "/opt/conda/lib/python3.9/site-packages/setuptools/_distutils/version.py:346: DeprecationWarning: distutils Version classes are deprecated. Use packaging.version instead.\n",
      "  other = LooseVersion(other)\n",
      "/opt/conda/lib/python3.9/site-packages/joblib/backports.py:36: DeprecationWarning: distutils Version classes are deprecated. Use packaging.version instead.\n",
      "  if LooseVersion(np.__version__) < '1.13':\n",
      "/opt/conda/lib/python3.9/site-packages/setuptools/_distutils/version.py:346: DeprecationWarning: distutils Version classes are deprecated. Use packaging.version instead.\n",
      "  other = LooseVersion(other)\n",
      "/opt/conda/lib/python3.9/site-packages/joblib/backports.py:36: DeprecationWarning: distutils Version classes are deprecated. Use packaging.version instead.\n",
      "  if LooseVersion(np.__version__) < '1.13':\n",
      "/opt/conda/lib/python3.9/site-packages/setuptools/_distutils/version.py:346: DeprecationWarning: distutils Version classes are deprecated. Use packaging.version instead.\n",
      "  other = LooseVersion(other)\n",
      "/opt/conda/lib/python3.9/site-packages/joblib/backports.py:36: DeprecationWarning: distutils Version classes are deprecated. Use packaging.version instead.\n",
      "  if LooseVersion(np.__version__) < '1.13':\n",
      "/opt/conda/lib/python3.9/site-packages/setuptools/_distutils/version.py:346: DeprecationWarning: distutils Version classes are deprecated. Use packaging.version instead.\n",
      "  other = LooseVersion(other)\n",
      "/opt/conda/lib/python3.9/site-packages/joblib/backports.py:36: DeprecationWarning: distutils Version classes are deprecated. Use packaging.version instead.\n",
      "  if LooseVersion(np.__version__) < '1.13':\n",
      "/opt/conda/lib/python3.9/site-packages/setuptools/_distutils/version.py:346: DeprecationWarning: distutils Version classes are deprecated. Use packaging.version instead.\n",
      "  other = LooseVersion(other)\n",
      "/opt/conda/lib/python3.9/site-packages/joblib/backports.py:36: DeprecationWarning: distutils Version classes are deprecated. Use packaging.version instead.\n",
      "  if LooseVersion(np.__version__) < '1.13':\n",
      "/opt/conda/lib/python3.9/site-packages/setuptools/_distutils/version.py:346: DeprecationWarning: distutils Version classes are deprecated. Use packaging.version instead.\n",
      "  other = LooseVersion(other)\n",
      "/opt/conda/lib/python3.9/site-packages/joblib/backports.py:36: DeprecationWarning: distutils Version classes are deprecated. Use packaging.version instead.\n",
      "  if LooseVersion(np.__version__) < '1.13':\n",
      "/opt/conda/lib/python3.9/site-packages/setuptools/_distutils/version.py:346: DeprecationWarning: distutils Version classes are deprecated. Use packaging.version instead.\n",
      "  other = LooseVersion(other)\n",
      "/opt/conda/lib/python3.9/site-packages/joblib/backports.py:36: DeprecationWarning: distutils Version classes are deprecated. Use packaging.version instead.\n",
      "  if LooseVersion(np.__version__) < '1.13':\n",
      "/opt/conda/lib/python3.9/site-packages/setuptools/_distutils/version.py:346: DeprecationWarning: distutils Version classes are deprecated. Use packaging.version instead.\n",
      "  other = LooseVersion(other)\n",
      "/opt/conda/lib/python3.9/site-packages/joblib/backports.py:36: DeprecationWarning: distutils Version classes are deprecated. Use packaging.version instead.\n",
      "  if LooseVersion(np.__version__) < '1.13':\n",
      "/opt/conda/lib/python3.9/site-packages/setuptools/_distutils/version.py:346: DeprecationWarning: distutils Version classes are deprecated. Use packaging.version instead.\n",
      "  other = LooseVersion(other)\n",
      "/opt/conda/lib/python3.9/site-packages/joblib/backports.py:36: DeprecationWarning: distutils Version classes are deprecated. Use packaging.version instead.\n",
      "  if LooseVersion(np.__version__) < '1.13':\n",
      "/opt/conda/lib/python3.9/site-packages/setuptools/_distutils/version.py:346: DeprecationWarning: distutils Version classes are deprecated. Use packaging.version instead.\n",
      "  other = LooseVersion(other)\n",
      "/opt/conda/lib/python3.9/site-packages/joblib/backports.py:36: DeprecationWarning: distutils Version classes are deprecated. Use packaging.version instead.\n",
      "  if LooseVersion(np.__version__) < '1.13':\n",
      "/opt/conda/lib/python3.9/site-packages/setuptools/_distutils/version.py:346: DeprecationWarning: distutils Version classes are deprecated. Use packaging.version instead.\n",
      "  other = LooseVersion(other)\n",
      "/opt/conda/lib/python3.9/site-packages/joblib/backports.py:36: DeprecationWarning: distutils Version classes are deprecated. Use packaging.version instead.\n",
      "  if LooseVersion(np.__version__) < '1.13':\n",
      "/opt/conda/lib/python3.9/site-packages/setuptools/_distutils/version.py:346: DeprecationWarning: distutils Version classes are deprecated. Use packaging.version instead.\n",
      "  other = LooseVersion(other)\n",
      "/opt/conda/lib/python3.9/site-packages/joblib/backports.py:36: DeprecationWarning: distutils Version classes are deprecated. Use packaging.version instead.\n",
      "  if LooseVersion(np.__version__) < '1.13':\n",
      "/opt/conda/lib/python3.9/site-packages/setuptools/_distutils/version.py:346: DeprecationWarning: distutils Version classes are deprecated. Use packaging.version instead.\n",
      "  other = LooseVersion(other)\n"
     ]
    },
    {
     "data": {
      "text/html": [
       "\n",
       "<link rel=\"stylesheet\" type=\"text/css\" href=\"https://cdn.jsdelivr.net/gh/bmabey/pyLDAvis@3.3.1/pyLDAvis/js/ldavis.v1.0.0.css\">\n",
       "\n",
       "\n",
       "<div id=\"ldavis_el2411397540637969285720323744\"></div>\n",
       "<script type=\"text/javascript\">\n",
       "\n",
       "var ldavis_el2411397540637969285720323744_data = {\"mdsDat\": {\"x\": [0.16073381079150034, -0.3997580883047483, 0.09186230937534663, -0.1483855578126052, 0.03142257602269143, 0.06425609659072903, 0.0403527755544889, 0.07558819038866747, 0.04114211828338742, 0.04278576911054239], \"y\": [-0.35782223013290426, -0.04604054409329125, 0.28624631954965707, -0.019377511560881085, 0.014429410344046902, -0.004411639329770093, 0.0016548819301267234, 0.1322520728725836, -0.0009669534083575909, -0.005963806171209883], \"topics\": [1, 2, 3, 4, 5, 6, 7, 8, 9, 10], \"cluster\": [1, 1, 1, 1, 1, 1, 1, 1, 1, 1], \"Freq\": [22.04175813849167, 16.457626075234618, 12.75267396792154, 9.721673124015021, 8.272629568473615, 6.722030954921325, 6.513226490432486, 6.435289339215977, 6.151714141633223, 4.931378199660523]}, \"tinfo\": {\"Term\": [\"\\u0433\\u043e\\u0434\", \"\\u0440\\u043e\\u0441\\u0441\\u0438\\u044f\", \"\\u0440\\u0443\\u0431\\u043b\\u044c\", \"\\u0440\\u0435\\u0434\\u0430\\u043a\\u0446\\u0438\\u044f\", \"\\u0431\\u0438\\u0437\\u043d\\u0435\\u0441\", \"\\u0441\\u0442\\u0430\\u0442\\u044c\\u044f\", \"\\u043a\\u043e\\u043c\\u043f\\u0430\\u043d\\u0438\\u044f\", \"\\u043d\\u043e\\u0432\\u044b\\u0439\", \"\\u0441\\u0442\\u0430\\u0442\\u044c\\u044f_\\u0440\\u0435\\u0434\\u0430\\u043a\\u0446\\u0438\\u044f\", \"\\u043c\\u0430\\u0433\\u0430\\u0437\\u0438\\u043d\", \"\\u043c\\u043b\\u0440\\u0434\", \"\\u0431\\u0430\\u043d\\u043a\", \"\\u0446\\u0431\", \"\\u043c\\u043b\\u0440\\u0434_\\u0440\\u0443\\u0431\\u043b\\u044c\", \"\\u0444\\u043d\\u0441\", \"\\u0440\\u0444\", \"\\u0438\\u043f\", \"\\u0441\\u0431\\u0435\\u0440\\u0431\\u0430\\u043d\\u043a\", \"\\u0438\\u043d\\u0442\\u0435\\u0440\\u043d\\u0435\\u0442\", \"\\u0440\\u044b\\u043d\\u043e\\u043a\", \"\\u0440\\u043e\\u0441\\u0441\\u0438\\u0439\\u0441\\u043a\\u0438\\u0439\", \"\\u0441\\u0442\\u0440\\u0430\\u0445\\u043e\\u0432\\u043e\\u0439\", \"\\u043c\\u043b\\u043d\", \"\\u043f\\u0440\\u043e\\u0434\\u0430\\u0436\\u0430\", \"\\u0446\\u0435\\u043d\\u0430\", \"\\u043d\\u0430\\u043b\\u043e\\u0433\", \"\\u0441\\u0435\\u0442\\u044c\", \"\\u0441\\u0438\\u0441\\u0442\\u0435\\u043c\\u0430\", \"\\u0441\\u0443\\u0434\", \"\\u043c\\u0441\\u043f\", \"\\u0431\\u0438\\u0437\\u043d\\u0435\\u0441\", \"\\u0441\\u0442\\u0430\\u0442\\u044c\\u044f\", \"\\u043a\\u043e\\u043c\\u043f\\u0430\\u043d\\u0438\\u044f\", \"\\u0441\\u0442\\u0430\\u0442\\u044c\\u044f_\\u0440\\u0435\\u0434\\u0430\\u043a\\u0446\\u0438\\u044f\", \"\\u0440\\u043e\\u0441\\u0441\\u0438\\u0439\\u0441\\u043a\\u0438\\u0439\", \"\\u043f\\u0440\\u043e\\u0434\\u0430\\u0436\\u0430\", \"\\u0440\\u043e\\u0441\\u0441\\u0438\\u044f\\u043d\\u0438\\u043d\", \"\\u043c\\u043e\\u0441\\u043a\\u0432\\u0430\", \"\\u043e\\u043d\\u043b\\u0430\\u0439\\u043d\", \"\\u0441\\u0432\\u043e\\u0439\", \"\\u0441\\u0435\\u0440\\u0432\\u0438\\u0441\", \"\\u044f\\u043d\\u0434\\u0435\\u043a\\u0441\", \"\\u0444\\u0430\\u0441\", \"\\u0440\\u043e\\u0441\\u0442\", \"group\", \"\\u043c\\u0430\\u043b\\u043e\\u0435\", \"\\u0433\\u043b\\u0430\\u0432\\u0430\", \"\\u043c\\u0435\\u0433\\u0430\\u0444\\u043e\\u043d\", \"\\u043a\\u0430\\u0441\\u0441\\u0430\", \"\\u043c\\u0442\\u0441\", \"\\u043c\\u0430\\u043b\\u044b\\u0439\", \"\\u043c\\u043e\\u0441\\u043a\\u043e\\u0432\\u0441\\u043a\\u0438\\u0439\", \"\\u043f\\u0440\\u043e\\u0433\\u0440\\u0430\\u043c\\u043c\\u0430\", \"\\u043c\\u0430\\u0433\\u043d\\u0438\\u0442\", \"\\u0442\\u044b\\u0441\", \"apple\", \"\\u0440\\u0430\\u0431\\u043e\\u0442\\u0430\\u0442\\u044c\", \"google\", \"\\u0440\\u043e\\u0441\\u0442\\u0435\\u043b\\u0435\\u043a\\u043e\\u043c\", \"\\u043c\\u0430\\u043b\\u043e\\u0435_\\u0431\\u0438\\u0437\\u043d\\u0435\\u0441\", \"\\u0433\\u043e\\u0434\", \"\\u0440\\u043e\\u0441\\u0441\\u0438\\u044f\", \"\\u0440\\u0435\\u0434\\u0430\\u043a\\u0446\\u0438\\u044f\", \"\\u043d\\u043e\\u0432\\u044b\\u0439\", \"\\u043c\\u043b\\u0440\\u0434\", \"\\u0441\\u0438\\u0441\\u0442\\u0435\\u043c\\u0430\", \"\\u0440\\u0430\\u0431\\u043e\\u0442\\u0430\", \"\\u0442\\u043e\\u0432\\u0430\\u0440\", \"\\u043f\\u0443\\u0442\\u0438\\u043d\", \"\\u0431\\u043e\\u043b\\u0435\\u0435\", \"\\u043f\\u0440\\u0430\\u0432\\u0438\\u043b\\u043e\", \"\\u0440\\u0435\\u043a\\u043b\\u0430\\u043c\\u0430\", \"\\u0432\\u0435\\u0441\\u044c\", \"\\u043e\\u043f\\u0435\\u0440\\u0430\\u0442\\u043e\\u0440\", \"\\u0440\\u0435\\u0433\\u0438\\u043e\\u043d\", \"\\u043e\\u0431\\u044ae\\u043c\", \"\\u043f\\u0440\\u043e\\u0435\\u043a\\u0442\", \"\\u043c\\u0430\\u0440\\u043a\\u0438\\u0440\\u043e\\u0432\\u043a\\u0430\", \"\\u0442\\u044b\\u0441\\u044f\\u0447\\u0430\", \"\\u0442\\u0440\\u0435\\u0431\\u043e\\u0432\\u0430\\u043d\\u0438\\u0435\", \"\\u0431\\u0430\\u043d\\u043a\\u0440\\u043e\\u0442\\u0441\\u0442\\u0432\\u043e\", \"\\u0440\\u0435\\u0435\\u0441\\u0442\\u0440\", \"\\u0440\\u0430\\u0437\\u0432\\u0438\\u0442\\u0438\\u0435\", \"\\u043e\\u043f\\u043b\\u0430\\u0442\\u0430\", \"\\u0435\\u0449e\", \"\\u0442\\u0440\\u0438\", \"\\u043c\\u0435\\u0441\\u044f\\u0446\", \"\\u0435\\u0434\\u0438\\u043d\\u044b\\u0439\", \"\\u0434\\u043e\\u0441\\u0442\\u0430\\u0432\\u043a\\u0430\", \"\\u0440\\u0435\\u0439\\u0442\\u0438\\u043d\\u0433\", \"\\u043f\\u043e\\u0440\\u044f\\u0434\\u043e\\u043a\", \"\\u0440\\u0444\", \"\\u0448\\u0442\\u0440\\u0430\\u0444\", \"\\u0437\\u0430\\u043a\\u043e\\u043d\", \"\\u0433\\u043e\\u0441\\u0434\\u0443\\u043c\\u0430\", \"\\u0441\\u0442\\u0440\\u0430\\u0445\\u043e\\u0432\\u0430\\u043d\\u0438\\u0435\", \"\\u043f\\u0440\\u0430\\u0432\\u0438\\u0442\\u0435\\u043b\\u044c\\u0441\\u0442\\u0432\\u043e\", \"\\u0430\\u043b\\u043a\\u043e\\u0433\\u043e\\u043b\\u044c\", \"\\u0437\\u0430\\u043a\\u043e\\u043d\\u043e\\u043f\\u0440\\u043e\\u0435\\u043a\\u0442\", \"\\u043a\\u0430\\u0431\\u043c\\u0438\\u043d\", \"\\u043f\\u0440\\u043e\\u0438\\u0437\\u0432\\u043e\\u0434\\u0438\\u0442\\u0435\\u043b\\u044c\", \"\\u043f\\u0440\\u0430\\u0432\\u043e\", \"\\u043d\\u0430\\u0440\\u0443\\u0448\\u0435\\u043d\\u0438\\u0435\", \"\\u0432\\u0432\\u0435\\u0441\\u0442\\u0438\", \"\\u0432\\u043b\\u0430\\u0441\\u0442\\u044c\", \"\\u0441\\u043a\", \"\\u043f\\u043b\\u0430\\u0442\\u0444\\u043e\\u0440\\u043c\\u0430\", \"\\u043a\\u043e\\u0442\\u043e\\u0440\\u044b\\u0439\", \"\\u0443\\u0441\\u043b\\u043e\\u0432\\u0438\\u0435\", \"\\u0434\\u0430\\u043d\\u043d\\u044b\\u0435\", \"\\u0436\\u0438\\u0437\\u043d\\u044c\", \"\\u043c\\u0438\\u043d\\u043f\\u0440\\u043e\\u043c\\u0442\\u043e\\u0440\\u0433\", \"\\u043e\\u0433\\u0440\\u0430\\u043d\\u0438\\u0447\\u0435\\u043d\\u0438\\u0435\", \"\\u0440\\u043e\\u0441\\u043f\\u043e\\u0442\\u0440\\u0435\\u0431\\u043d\\u0430\\u0434\\u0437\\u043e\\u0440\", \"\\u0446\\u0438\\u0444\\u0440\\u043e\\u0432\\u043e\\u0439\", \"\\u0442\\u0438\\u0442\\u043e\\u0432\", \"\\u0441\\u0432\\u044f\\u0437\\u044c\", \"\\u043f\\u0440\\u0435\\u0437\\u0438\\u0434\\u0435\\u043d\\u0442\", \"\\u0438\\u043d\\u043e\\u0441\\u0442\\u0440\\u0430\\u043d\\u043d\\u044b\\u0439\", \"\\u043f\\u0440\\u043e\\u0434\\u0443\\u043a\\u0446\\u0438\\u044f\", \"\\u0441\\u0430\\u043d\\u043a\\u0446\\u0438\\u044f\", \"\\u0441\\u0440\\u043e\\u043a\", \"\\u0444\\u043d\\u0441\", \"\\u0438\\u043f\", \"\\u043d\\u0430\\u043b\\u043e\\u0433\", \"\\u043d\\u0430\\u043b\\u043e\\u0433\\u043e\\u0432\\u044b\\u0439\", \"\\u043f\\u0440\\u0435\\u0434\\u043f\\u0440\\u0438\\u043d\\u0438\\u043c\\u0430\\u0442\\u0435\\u043b\\u044c\", \"\\u0441\\u043c\\u0438\", \"\\u043f\\u043e\\u043a\\u0443\\u043f\\u043a\\u0430\", \"\\u0441\\u0430\\u043c\\u043e\\u0437\\u0430\\u043d\\u044f\\u0442\\u043e\\u0439\", \"\\u044e\\u0440\\u043b\\u0438\\u0446\\u043e\", \"\\u044d\\u043b\\u0435\\u043a\\u0442\\u0440\\u043e\\u043d\\u043d\\u044b\\u0439\", \"\\u043f\\u0440\\u043e\\u0432\\u0435\\u0440\\u043a\\u0430\", \"\\u0441\\u0447e\\u0442\", \"\\u0431\\u043e\\u043b\\u044c\\u0448\\u043e\\u0439\", \"\\u0434\\u043e\\u043b\\u0433\", \"\\u043a\\u0430\\u043a\\u043e\\u0439\", \"ru\", \"\\u043f\\u043b\\u0430\\u0442e\\u0436\", \"\\u043d\\u0434\\u0441\", \"\\u043f\\u043e\\u043b\\u0443\\u0447\\u0438\\u0442\\u044c\", \"\\u0444\\u0438\\u0437\\u043b\\u0438\\u0446\\u043e\", \"\\u043d\\u0430\\u0447\\u0430\\u043b\\u043e\", \"\\u043d\\u0434\\u0444\\u043b\", \"\\u0434\\u043e\\u043c\", \"\\u043b\\u044c\\u0433\\u043e\\u0442\\u0430\", \"\\u0434\\u043e\\u043a\\u0443\\u043c\\u0435\\u043d\\u0442\", \"\\u0434\\u043e\\u0445\\u043e\\u0434\", \"\\u0441\\u0430\\u0439\\u0442\", \"\\u043a\\u043a\\u0442\", \"\\u0432\\u043e\\u0437\\u043c\\u043e\\u0436\\u043d\\u043e\\u0441\\u0442\\u044c\", \"\\u0434\\u0430\\u0442\\u044c\", \"\\u0440\\u0443\\u0431\\u043b\\u044c\", \"\\u043c\\u043b\\u0440\\u0434_\\u0440\\u0443\\u0431\\u043b\\u044c\", \"\\u0440\\u044b\\u043d\\u043e\\u043a\", \"\\u0441\\u043e\\u0442\\u0440\\u0443\\u0434\\u043d\\u0438\\u043a\", \"\\u043c\\u0438\\u043d\\u0444\\u0438\\u043d\", \"\\u0440\\u0430\\u0431\\u043e\\u0442\\u043d\\u0438\\u043a\", \"\\u043c\\u043b\\u043d_\\u0440\\u0443\\u0431\\u043b\\u044c\", \"\\u0437\\u0430\\u0440\\u043f\\u043b\\u0430\\u0442\\u0430\", \"\\u0440\\u0430\\u0431\\u043e\\u0442\\u043e\\u0434\\u0430\\u0442\\u0435\\u043b\\u044c\", \"\\u043a\\u043b\\u0438\\u0435\\u043d\\u0442\", \"\\u0446\\u0435\\u043d\\u0442\\u0440\\u043e\\u0431\\u0430\\u043d\\u043a\", \"\\u0434\\u0438\\u0440\\u0435\\u043a\\u0442\\u043e\\u0440\", \"\\u0434\\u0432\\u0430\", \"\\u043a\\u0430\\u043f\\u0438\\u0442\\u0430\\u043b\", \"\\u0432\\u044b\\u043f\\u043b\\u0430\\u0442\\u0430\", \"\\u0444\\u043e\\u043d\\u0434\", \"\\u043a\\u0440\\u0435\\u0434\\u0438\\u0442\\u043d\\u044b\\u0439\", \"\\u0444\\u0438\\u043d\\u0430\\u043d\\u0441\\u043e\\u0432\\u044b\\u0439\", \"\\u0442\\u0440\\u0443\\u0434\\u043e\\u0432\\u043e\\u0439\", \"\\u043f\\u0435\\u043d\\u0441\\u0438\\u043e\\u043d\\u043d\\u044b\\u0439\", \"\\u043f\\u0430\\u043d\\u0434\\u0435\\u043c\\u0438\\u044f\", \"\\u0434\\u043e\\u043b\\u0436\\u043d\\u044b\\u0439\", \"\\u0440\\u043e\\u0441\\u0433\\u043e\\u0441\\u0441\\u0442\\u0440\\u0430\\u0445\", \"\\u0432\\u044d\\u0431\", \"\\u0434\\u043e\\u0433\\u043e\\u0432\\u043e\\u0440\", \"\\u0440\\u0430\\u0441\\u0445\\u043e\\u0434\", \"\\u0441\\u043e\\u0431\\u0441\\u0442\\u0432\\u0435\\u043d\\u043d\\u044b\\u0439\", \"\\u043c\\u0438\\u043d\\u0442\\u0440\\u0443\\u0434\", \"\\u043f\\u043e\\u0447\\u0442\\u0430\", \"\\u043b\\u0438\\u0437\\u0438\\u043d\\u0433\", \"\\u0431\\u0430\\u043d\\u043a\", \"\\u0446\\u0431\", \"\\u0441\\u0431\\u0435\\u0440\\u0431\\u0430\\u043d\\u043a\", \"\\u043c\\u043b\\u043d\", \"\\u043a\\u0440\\u0435\\u0434\\u0438\\u0442\", \"\\u0432\\u0442\\u0431\", \"\\u044d\\u043a\\u0441\\u043f\\u0435\\u0440\\u0442\", \"\\u043a\\u0430\\u0440\\u0442\\u0430\", \"\\u043f\\u043e\\u0434\\u0434\\u0435\\u0440\\u0436\\u043a\\u0430\", \"\\u0438\\u0441\\u043a\", \"\\u043f\\u043e\\u0447\\u0442\\u0438\", \"\\u0434\\u0435\\u043d\\u044c\\u0433\\u0430\", \"\\u0441\\u0442\\u0430\\u0432\\u043a\\u0430\", \"\\u043c\\u0438\\u0440\", \"\\u043f\\u0440\\u0438\\u043b\\u043e\\u0436\\u0435\\u043d\\u0438\\u0435\", \"\\u0443\\u0441\\u043b\\u0443\\u0433\\u0430\", \"\\u043c\\u0435\\u0440\\u0430\", \"\\u0438\\u0441\\u0441\\u043b\\u0435\\u0434\\u043e\\u0432\\u0430\\u043d\\u0438\\u0435\", \"\\u043c\\u0441\\u0431\", \"\\u043c\\u043e\\u0431\\u0438\\u043b\\u044c\\u043d\\u044b\\u0439\", \"\\u0433\\u043e\\u0442\\u043e\\u0432\\u044b\\u0439\", \"\\u0430\\u043b\\u044c\\u0444\\u0430\", \"\\u043c\\u0430\\u043b\\u044b\\u0439_\\u0431\\u0438\\u0437\\u043d\\u0435\\u0441\", \"\\u0440\\u0430\\u0437\\u043c\\u0435\\u0440\", \"\\u0430\\u043b\\u044c\\u0444\\u0430_\\u0431\\u0430\\u043d\\u043a\", \"\\u0432\\u043f\\u0435\\u0440\\u0432\\u044b\\u0435\", \"\\u0441\\u043d\\u0438\\u0436\\u0435\\u043d\\u0438\\u0435\", \"\\u0441\\u043d\\u0438\\u0437\\u0438\\u0442\\u044c\", \"\\u043f\\u0440\\u043e\\u0434\\u0430\\u0432\\u0435\\u0446\", \"\\u0441\\u0442\\u0440\\u0443\\u043a\\u0442\\u0443\\u0440\\u0430\", \"\\u0441\\u0435\\u0442\\u044c\", \"\\u0441\\u0443\\u0434\", \"\\u043b\\u0438\\u0446\\u0435\\u043d\\u0437\\u0438\\u044f\", \"\\u043d\\u043f\\u0444\", \"\\u0442\\u043e\\u0440\\u0433\\u043e\\u0432\\u044b\\u0439\", \"\\u0434\\u043e\\u043b\\u044f\", \"\\u0440\\u0435\\u0442\\u0435\\u0439\\u043b\\u0435\\u0440\", \"\\u043a\\u0440\\u0443\\u043f\\u043d\\u044b\\u0439\", \"\\u0441\\u0434\\u0435\\u043b\\u043a\\u0430\", \"\\u0441\\u043c\\u0430\\u0440\\u0442\\u0444\\u043e\\u043d\", \"\\u0446\\u0435\\u043d\\u0442\\u0440\", \"\\u043f\\u043e\\u043b\\u044c\\u0437\\u043e\\u0432\\u0430\\u0442\\u0435\\u043b\\u044c\", \"\\u0447\\u0438\\u0441\\u043b\\u043e\", \"\\u0440\\u0435\\u0448\\u0435\\u043d\\u0438\\u0435\", \"\\u0431\\u0438\\u0437\\u043d\\u0435\\u0441\\u043c\\u0435\\u043d\", \"\\u043f\\u0440\\u0435\\u0434\\u043f\\u0440\\u0438\\u044f\\u0442\\u0438\\u0435\", \"\\u0434\\u0435\\u043b\\u043e\", \"\\u0438\\u043f_\\u044e\\u0440\\u043b\\u0438\\u0446\\u043e\", \"\\u0441\\u043e\\u0432\\u0435\\u0442\", \"\\u0442\\u0440\\u0430\\u043d\\u0441\\u0430\\u044d\\u0440\\u043e\", \"\\u043f\\u043b\\u0430\\u0442\\u0438\\u0442\\u044c\", \"\\u0440\\u0435\\u0436\\u0438\\u043c\", \"\\u0431\\u0430\\u043d\\u043a\\u043e\\u0432\\u0441\\u043a\\u0438\\u0439\", \"\\u0442\\u043e\\u0440\\u0433\\u043e\\u0432\\u044b\\u0439_\\u0441\\u0435\\u0442\\u044c\", \"\\u043f\\u0435\\u0440\\u0435\\u0445\\u043e\\u0434\", \"\\u0443\\u0441\\u043d\", \"\\u0441\\u043f\\u0438\\u0441\\u043e\\u043a\", \"\\u0434\\u043e\\u0447\\u043a\\u0430\", \"\\u0441\\u043e\\u0432\\u0435\\u0442_\\u0434\\u0438\\u0440\\u0435\\u043a\\u0442\\u043e\\u0440\", \"\\u043e\\u0431\\u044f\\u0437\\u0430\\u0442\\u044c\", \"\\u0441\\u0442\\u0440\\u0430\\u0445\\u043e\\u0432\\u043e\\u0439\", \"\\u043c\\u0441\\u043f\", \"\\u0433\\u0440\\u0443\\u043f\\u043f\\u0430\", \"\\u0432\\u043b\\u0430\\u0434\\u0435\\u043b\\u0435\\u0446\", \"\\u0434\\u043e\\u043b\\u043b\\u0430\\u0440\", \"\\u043f\\u0440\\u0438\\u0431\\u044b\\u043b\\u044c\", \"\\u043a\\u0432\\u0430\\u0440\\u0442\\u0430\\u043b\", \"\\u043e\\u0442\\u043a\\u0440\\u044b\\u0442\\u0438\\u0435\", \"\\u0432\\u0437\\u043d\\u043e\\u0441\", \"\\u043b\\u044c\\u0433\\u043e\\u0442\\u043d\\u044b\\u0439\", \"\\u0444\\u043e\\u0440\\u043c\\u0430\", \"\\u0431\\u0440\\u0435\\u043d\\u0434\", \"\\u0430\\u043a\\u0442\\u0438\\u0432\", \"\\u044f\\u043d\\u0432\\u0430\\u0440\\u044c\", \"\\u0442\\u0430\\u0440\\u0438\\u0444\", \"\\u0440\\u0430\\u0441\\u0447e\\u0442\", \"\\u0438\\u043d\\u0432\\u0435\\u0441\\u0442\\u043e\\u0440\", \"\\u0430\\u043f\\u0440\\u0435\\u043b\\u044c\", \"\\u0447\\u0438\\u0441\\u0442\\u044b\\u0439\", \"\\u0437\\u0430\\u044f\\u0432\\u043b\\u0435\\u043d\\u0438\\u0435\", \"\\u0438\\u0442\\u043e\\u0433\", \"\\u0430\\u043a\\u0446\\u0438\\u043e\\u043d\\u0435\\u0440\", \"\\u043e\\u0442\\u0447e\\u0442\", \"\\u0447\\u0438\\u0441\\u0442\\u044b\\u0439_\\u043f\\u0440\\u0438\\u0431\\u044b\\u043b\\u044c\", \"\\u043c\\u0430\\u0439\", \"\\u0443\\u0436\\u0435\", \"\\u0447\\u0430\\u0441\\u0442\\u044b\\u0439\", \"\\u043e\\u0442\\u0447e\\u0442\\u043d\\u043e\\u0441\\u0442\\u044c\", \"\\u043f\\u0440\\u043e\\u0434\\u043b\\u0438\\u0442\\u044c\", \"\\u0442\\u0440\\u0435\\u0442\\u044c\", \"\\u043c\\u0430\\u0433\\u0430\\u0437\\u0438\\u043d\", \"\\u0446\\u0435\\u043d\\u0430\", \"\\u043f\\u0435\\u0440\\u0432\\u044b\\u0439\", \"\\u0440\\u0430\\u0437\", \"\\u0442\\u043e\\u0440\\u0433\\u043e\\u0432\\u043b\\u044f\", \"\\u0441\\u0430\\u043c\\u044b\\u0439\", \"\\u043f\\u0435\\u0442\\u0435\\u0440\\u0431\\u0443\\u0440\\u0433\", \"\\u043f\\u0435\\u0440\\u0435\\u0432\\u043e\\u0434\", \"\\u043f\\u0440\\u043e\\u0434\\u0430\\u0432\\u0430\\u0442\\u044c\", \"\\u043f\\u043b\\u0430\\u0442e\\u0436\\u043d\\u044b\\u0439\", \"\\u043e\\u0434\\u0438\\u043d\", \"\\u0441\\u0442\\u043e\\u0438\\u043c\\u043e\\u0441\\u0442\\u044c\", \"\\u0441\\u043f\\u0440\\u043e\\u0441\", \"\\u0441\\u0443\\u0431\\u0441\\u0438\\u0434\\u0438\\u044f\", \"\\u0441\\u0440\\u0435\\u0434\\u0441\\u0442\\u0432\\u043e\", \"\\u0442\\u0446\", \"\\u043f\\u043b\\u0430\\u0442e\\u0436\\u043d\\u044b\\u0439_\\u0441\\u0438\\u0441\\u0442\\u0435\\u043c\\u0430\", \"\\u0434\\u0435\\u043a\\u0430\\u0431\\u0440\\u044c\", \"\\u043f\\u043e\\u0432\\u044b\\u0448\\u0435\\u043d\\u0438\\u0435\", \"\\u0447\\u0435\\u043a\", \"\\u0436\\u0438\\u043b\\u044ce\", \"\\u0441\\u0430\\u043d\\u043a\\u0442\", \"\\u0441\\u0431\\u043e\\u0440\", \"\\u043a\\u043e\\u043c\\u0438\\u0441\\u0441\\u0438\\u044f\", \"\\u0441\\u0430\\u043d\\u043a\\u0442_\\u043f\\u0435\\u0442\\u0435\\u0440\\u0431\\u0443\\u0440\\u0433\", \"\\u0440\\u0430\\u0437\\u0440\\u0435\\u0448\\u0438\\u0442\\u044c\", \"\\u0430\\u0432\\u0433\\u0443\\u0441\\u0442\", \"\\u043f\\u044f\\u0442\\u044c\", \"\\u0432\\u043e\\u0437\\u043c\\u043e\\u0436\\u043d\\u044b\\u0439\", \"\\u0432\\u0432\\u0435\\u0434\\u0435\\u043d\\u0438\\u0435\", \"\\u0438\\u043d\\u0442\\u0435\\u0440\\u043d\\u0435\\u0442\", \"\\u0430\\u043a\\u0446\\u0438\\u044f\", \"\\u043e\\u0441\\u0430\\u0433\\u043e\", \"\\u043f\\u0440\\u043e\\u0434\\u0443\\u043a\\u0442\", \"\\u0441\\u0442\\u0440\\u0430\\u0445\\u043e\\u0432\\u0449\\u0438\\u043a\", \"\\u0434\\u0435\\u043d\\u044c\", \"\\u0438\\u043d\\u0442\\u0435\\u0440\\u043d\\u0435\\u0442_\\u043c\\u0430\\u0433\\u0430\\u0437\\u0438\\u043d\", \"\\u043a\\u043e\\u043d\\u0435\\u0446\", \"\\u043c\\u0444\\u043e\", \"\\u043f\\u043e\\u043a\\u0443\\u043f\\u0430\\u0442\\u0435\\u043b\\u044c\", \"\\u0432\\u044b\\u0440\\u0443\\u0447\\u043a\\u0430\", \"\\u0437\\u0430\\u043f\\u0440\\u0435\\u0442\", \"\\u0438\\u043d\\u0432\\u0435\\u0441\\u0442\\u0438\\u0446\\u0438\\u044f\", \"\\u0441\\u0448\\u0430\", \"\\u043a\\u043e\\u043d\\u0435\\u0446_\\u0433\\u043e\\u0434\", \"\\u0432\\u0440\\u0435\\u043c\\u044f\", \"\\u0438\\u043f\\u043e\\u0442\\u0435\\u043a\\u0430\", \"\\u0440\\u0430\\u0431\\u043e\\u0447\\u0438\\u0439\", \"\\u0442\\u0435\\u043f\\u0435\\u0440\\u044c\", \"\\u043c\\u0438\\u0448\\u0443\\u0441\\u0442\\u0438\\u043d\", \"\\u043c\\u043b\\u0440\\u0434_\\u0434\\u043e\\u043b\\u043b\\u0430\\u0440\", \"\\u0438\\u044e\\u043d\\u044c\", \"\\u043e\\u0442\\u043c\\u0435\\u043d\\u0438\\u0442\\u044c\", \"\\u043f\\u043e\\u043b\\u0438\\u0441\", \"\\u043c\\u0430\\u043b\\u0435\\u043d\\u044c\\u043a\\u0438\\u0439\", \"\\u043c\\u0430\\u0440\\u043a\\u0435\\u0442\\u043f\\u043b\\u0435\\u0439\\u0441\", \"\\u043f\\u0440\\u0438e\\u043c\", \"\\u043d\\u043e\\u044f\\u0431\\u0440\\u044c\", \"\\u0437\\u0430\\u044f\\u0432\\u043a\\u0430\", \"\\u0440\\u0441\\u0430\"], \"Freq\": [12456.0, 12235.0, 7684.0, 9270.0, 10491.0, 10174.0, 9483.0, 7591.0, 8728.0, 4326.0, 6301.0, 4044.0, 3853.0, 3809.0, 4009.0, 4366.0, 3413.0, 2912.0, 2520.0, 3044.0, 4955.0, 2640.0, 2512.0, 4463.0, 2381.0, 2615.0, 2199.0, 3242.0, 2078.0, 2065.0, 10489.995609937074, 10173.929741134572, 9482.369579390457, 8727.091143763417, 4954.0571659599555, 4462.203743323221, 3364.796089900102, 3215.712013454504, 2867.4414449384135, 2742.245917418875, 2548.0480121512533, 2490.510859153192, 2295.929714115164, 2085.0696320768775, 1453.4776460154474, 1412.7386304712466, 1407.897041048038, 1355.9909818462822, 1354.1436672032298, 1326.8270822970928, 1312.0517049025289, 1106.0319754162952, 1061.2807401307714, 1060.0166578096137, 1030.752857128615, 943.4520172147696, 927.2073320311315, 926.716199038371, 925.4121562644897, 911.3377042394851, 12455.462140852584, 12234.791891127215, 9269.479217917113, 7590.476109687877, 6300.595229106464, 3240.973738207078, 2762.3731188640586, 2509.5036285307615, 1827.1619831953485, 1702.09674435722, 1636.1409274356972, 1563.467155567457, 1552.0155309094314, 1479.0872942798696, 1422.1097784177757, 1355.142353958224, 1331.4241354233334, 1331.0707831835753, 1289.206144036736, 1243.6543943253757, 1186.3745328395562, 1133.76035592362, 1041.5825918105847, 986.5039002380961, 981.2826840005595, 973.214545565936, 965.9201021942813, 912.3745927766904, 899.1414306299924, 892.6570547271682, 1116.9934582597746, 4365.354617158121, 2308.9824900486337, 2298.6327142388295, 1934.3980683141294, 1845.234630810466, 1797.6266309180937, 1453.0279124097592, 1379.9033906292227, 1218.413507304997, 1213.0626881841974, 1180.0356208534213, 1106.979908215523, 1098.1475666664892, 995.552364330601, 986.7739691493956, 972.8890548274132, 935.558828857989, 932.7625353958026, 927.8123506270996, 916.0364090033197, 899.6783289529797, 897.9879910785878, 891.8776841650055, 852.6967124478713, 852.0949902573292, 848.1985211753298, 840.3992525702083, 834.5942380606829, 786.9701093052764, 784.1689716794483, 1019.8702860013229, 4008.108829750038, 3412.0025003107276, 2614.1919633212515, 2254.3565168076225, 2143.520276915717, 2052.282691185496, 1920.9697443914777, 1609.4342485374295, 1583.8379452707422, 1519.165357581633, 1486.5095505672437, 1480.8150487092703, 1430.5745192440877, 1336.5773032177422, 1310.1815875678976, 1066.217797718065, 1041.5366432834976, 1007.6587634385413, 976.0462630210047, 884.3858489877551, 882.7253372816386, 876.2782547580726, 840.3188813157753, 835.2315132299548, 827.5781363039622, 818.8316835902283, 805.946582746496, 777.6222060399643, 734.2908656161075, 688.8725343234031, 7683.048872763796, 3808.087612461326, 3043.703980245891, 1698.4850134730232, 1625.4352689284394, 1469.716758115834, 1435.0129766393632, 1316.101511115022, 1249.8039218784936, 1177.8590157437045, 1072.3356635444118, 1023.1089347201626, 1011.1054046045964, 954.5060397932813, 921.7088366094979, 906.4504253997892, 842.5658403876776, 798.6649040582699, 737.7454568029683, 720.2159491852785, 716.1911092743295, 684.793558524622, 686.7169200769282, 668.9042395895011, 650.8050295804131, 549.694210589262, 540.8066176036332, 540.1927073922179, 531.0858964687181, 511.1695236607411, 4043.4101150493916, 3852.1916789030083, 2911.31100256385, 2511.388479160958, 1839.4686536489257, 1723.5789772310357, 1511.277736294248, 1255.4288025312485, 1152.0659674603141, 1050.8244235781792, 961.1884095883472, 960.1304334526848, 872.8452841030635, 851.8184218827197, 824.4168341658933, 752.4702786576116, 735.7484989683475, 715.8573173456074, 675.652889461069, 670.9003244012146, 654.6702474050263, 571.8729804782809, 561.4452041745506, 520.5312805829961, 490.46162688990887, 472.75568740224105, 458.5958917202843, 441.94604233764926, 434.25005082960604, 402.6656533982126, 2198.605540985207, 2077.037349299105, 1613.1616411222674, 1614.4477128628303, 1492.9816332036983, 1324.2983000161141, 1217.6340783986584, 1200.0892529012226, 1097.6622305703117, 952.7941660517529, 905.2041698874054, 882.7309209032354, 876.581707649128, 839.4281679153023, 796.6891677811154, 763.4017153415417, 739.9685233373084, 723.1108735456007, 687.1139099586636, 652.5187938080666, 624.9316215701057, 594.5669009861945, 558.6504574557669, 545.905403287737, 533.7647556053365, 524.0576466978491, 520.3231354735917, 509.0930616704615, 447.41008759880623, 446.81703938930485, 2638.9687067566438, 2063.9950393892377, 1515.8128196919427, 1308.0713211168622, 1211.263882782131, 1194.2158908444023, 1099.3586992312446, 1057.076501407979, 1021.7518354309287, 995.0426110159431, 855.2504104766505, 832.2566771807792, 803.7029851508141, 803.4560931604235, 779.2161219868649, 724.2653761301242, 632.7859491712778, 604.1203112905844, 601.7526148804881, 580.1463990148612, 570.19249619436, 555.657980275815, 544.6351751386812, 537.1202474014696, 530.068492149381, 495.80645063232186, 490.73322023481944, 479.674359089188, 477.699223166063, 474.69374096620885, 4325.900728203735, 2380.5392632891458, 1942.2147019288798, 1435.1643951010778, 1244.5168259709503, 1038.0251894320522, 966.9403807797255, 961.3391724057168, 868.4775339079665, 865.5130911364265, 774.8829500924926, 754.2172485665689, 737.2169640349689, 630.8014400671626, 606.3215125634893, 599.8620767904214, 583.2579789170504, 572.4683716723059, 571.6898064699415, 567.549815215841, 505.43300491050314, 485.3875532480456, 470.17573814037627, 466.49624749130317, 435.8042087812339, 429.3097481956858, 390.15989440032706, 383.31091048542135, 381.62377137568654, 369.0980327702399, 2519.3942754676837, 1642.689116587321, 1407.1634302906255, 1403.3850007156493, 1239.9704759716265, 997.0835104045017, 883.1337511676412, 828.4847139475805, 777.5884774197201, 691.4515904711682, 670.6323805051647, 659.412592044308, 634.0564738064226, 595.0872466707725, 579.9714422990138, 507.2230496543291, 479.3236266705328, 456.93002847539424, 436.1561586425409, 426.31215585575274, 394.0660402948306, 387.8330704599701, 369.0706421960831, 367.98145725099806, 359.43132988834316, 335.8966078162478, 332.33904642041097, 328.7793563798253, 324.77486473252253, 321.4173959430764], \"Total\": [12456.0, 12235.0, 7684.0, 9270.0, 10491.0, 10174.0, 9483.0, 7591.0, 8728.0, 4326.0, 6301.0, 4044.0, 3853.0, 3809.0, 4009.0, 4366.0, 3413.0, 2912.0, 2520.0, 3044.0, 4955.0, 2640.0, 2512.0, 4463.0, 2381.0, 2615.0, 2199.0, 3242.0, 2078.0, 2065.0, 10491.040929507913, 10174.974754600347, 9483.41490575342, 8728.136160113487, 4955.1023652968115, 4463.2489660662395, 3365.8413136343934, 3216.757202350858, 2868.486604109302, 2743.291057708061, 2549.0930763053625, 2491.5559443673205, 2296.9749732397568, 2086.1148665580417, 1454.5227501291706, 1413.7837935435346, 1408.9422057067484, 1357.0362877093644, 1355.1889259714019, 1327.8724304278076, 1313.0969468709832, 1107.0771632310893, 1062.3259504220641, 1061.0619395800309, 1031.7981875618361, 944.4970575491117, 928.2525152064298, 927.7612438214372, 926.457582727888, 912.3828674253134, 12456.498196991184, 12235.827932526874, 9270.515192167048, 7591.512153424717, 6301.631486028121, 3242.0098485211856, 2763.409139363553, 2510.5396540164024, 1828.198031977146, 1703.1327856441878, 1637.1769094023446, 1564.5031596440858, 1553.051562298454, 1480.1234174160852, 1423.1458388332437, 1356.1784865952538, 1332.4601886159792, 1332.1068058098522, 1290.242124048828, 1244.690480514072, 1187.410734607367, 1134.7964217387917, 1042.6186316658416, 987.5399431910408, 982.3187857660338, 974.2505868200449, 966.9561659623066, 913.4106150564431, 900.1774018624913, 893.6931290070173, 1164.7807295939335, 4366.389850225584, 2310.0177277730936, 2299.6679155876373, 1935.4332513844406, 1846.2701793750473, 1798.6618496507726, 1454.0631697888805, 1380.9385723438884, 1219.4488817940976, 1214.0979027786739, 1181.0708241842858, 1108.0151130483575, 1099.1827962021378, 996.5876046777303, 987.8103434521244, 973.9243226829776, 936.5940164753517, 933.7977963776091, 928.8475663495506, 917.0718370517549, 900.713570822601, 899.0232376159096, 892.9129422802025, 853.7320075678322, 853.1303263038388, 849.2339204593367, 841.4344605361331, 835.6294747090258, 788.0053352261756, 785.2042976236855, 1377.1847383184538, 4009.156133815519, 3413.0498256221003, 2615.239288625699, 2255.4038391411304, 2144.5677226575785, 2053.3304438009845, 1922.0171877091932, 1610.4816263562018, 1584.8852467312468, 1520.212731375585, 1487.5568962669515, 1481.8624081156818, 1431.621919436202, 1337.624760854104, 1311.2289464390099, 1067.2651861986958, 1042.5840335657288, 1008.7061157122769, 977.0936122673163, 885.4331644485801, 883.772724156633, 877.3255657662162, 841.3662945096751, 836.2788373208766, 828.6254609275369, 819.8790146607947, 806.9939020007175, 778.6695211446269, 735.3383229132488, 689.91987411089, 7684.118913197253, 3809.1577101479843, 3044.774080024692, 1699.5549806498734, 1626.5053255578955, 1470.7867194064745, 1436.082945829619, 1317.1714954329673, 1250.8738860948442, 1178.9290855774188, 1073.4058504282425, 1024.1790419638598, 1012.1754598903406, 955.5762879285609, 922.7788830617435, 907.5204714740664, 843.6359124666075, 799.7350271977701, 738.815417447198, 721.2860090245896, 717.2611944497496, 685.8635552692906, 687.7907559402112, 669.975215560353, 651.8750226464375, 550.7641892587253, 541.8766598277957, 541.2626742070727, 532.1559022538181, 512.2398263115949, 4044.4909223754153, 3853.272639480285, 2912.3919163033815, 2512.469257427565, 1840.5494697946965, 1724.6600457738186, 1512.3586017069529, 1256.5095739165952, 1153.1467418126358, 1051.9053664517833, 962.2691995522263, 961.2112426145284, 873.92600776441, 852.8991901267738, 825.4975558854443, 753.5510720246499, 736.8292561014351, 716.9381725194058, 676.7338710658345, 671.9810759660804, 655.7510855842513, 572.9537360146479, 562.5260569107589, 521.6120792996921, 491.54234973067537, 473.8364440251994, 459.67670725493775, 443.0268393746962, 435.33083330440735, 403.74666614206086, 2199.6675761041274, 2078.099410519252, 1614.223856384801, 1615.5188038645215, 1494.0436488561134, 1325.360422132986, 1218.6961200933924, 1201.151298669055, 1098.7244085299035, 953.8561766698086, 906.2662055613375, 883.7928908214963, 877.6437876047682, 840.4902701063056, 797.7512567751709, 764.4638037307401, 741.0305465719239, 724.1730078217788, 688.1759310147839, 653.5819288779452, 625.9936368488688, 595.628922858707, 559.7124965596222, 546.9673787274451, 534.8267998808462, 525.119652953504, 521.3851643211293, 510.15538339521646, 448.4722389175506, 447.87906056115764, 2640.0267737656877, 2065.0530842503, 1516.871015068629, 1309.1293273830727, 1212.3221553392386, 1195.2738764232483, 1100.416698832069, 1058.1345799209096, 1022.8097564787018, 996.100588302594, 856.3083260171645, 833.3146935714614, 804.7611980002233, 804.5140568832512, 780.2741580454135, 725.3233703981516, 633.8439299594519, 605.1782718910458, 602.810589090874, 581.2043756515925, 571.2505322599786, 556.7162094981462, 545.6930977021253, 538.1782148601316, 531.126462794414, 496.8644642190644, 491.7912095429704, 480.7322969566535, 478.7571977489694, 475.75177054277475, 4326.962067376574, 2381.6005478079614, 1943.276009647048, 1436.225676874744, 1245.5781188020621, 1039.0864331799178, 968.0016102092691, 962.4004719616393, 869.5387987977023, 866.574434827782, 775.9442314518922, 755.2785309427303, 738.2782274251734, 631.8627262604974, 607.3828786306294, 600.9233894416775, 584.319305937672, 573.5296536952352, 572.7510994115112, 568.6110956485867, 506.49427471079224, 486.4487574767537, 471.23704535902857, 467.55749847642073, 436.86539642826284, 430.3710492553107, 391.22116408691875, 384.37224448907676, 382.6851073658666, 370.1593175962618, 2520.460523593789, 1643.7555018450435, 1408.2298832832657, 1404.4512485979324, 1241.037127576599, 998.1496903416739, 884.1999519914283, 829.5509169026724, 778.655029489193, 692.5178437411872, 671.6985975929875, 660.4788473595576, 635.1227528560147, 596.1534379746796, 581.0376167034783, 508.2892439662543, 480.38982617558213, 457.9962035593021, 437.2223808183305, 427.3784051063438, 395.13290945755915, 388.8992683845055, 370.13686340346396, 369.04778096701415, 360.49755576084823, 336.9628127004381, 333.405259993727, 329.84556171903466, 325.8410980204565, 322.4871752337195], \"Category\": [\"Default\", \"Default\", \"Default\", \"Default\", \"Default\", \"Default\", \"Default\", \"Default\", \"Default\", \"Default\", \"Default\", \"Default\", \"Default\", \"Default\", \"Default\", \"Default\", \"Default\", \"Default\", \"Default\", \"Default\", \"Default\", \"Default\", \"Default\", \"Default\", \"Default\", \"Default\", \"Default\", \"Default\", \"Default\", \"Default\", \"Topic1\", \"Topic1\", \"Topic1\", \"Topic1\", \"Topic1\", \"Topic1\", \"Topic1\", \"Topic1\", \"Topic1\", \"Topic1\", \"Topic1\", \"Topic1\", \"Topic1\", \"Topic1\", \"Topic1\", \"Topic1\", \"Topic1\", \"Topic1\", \"Topic1\", \"Topic1\", \"Topic1\", \"Topic1\", \"Topic1\", \"Topic1\", \"Topic1\", \"Topic1\", \"Topic1\", \"Topic1\", \"Topic1\", \"Topic1\", \"Topic2\", \"Topic2\", \"Topic2\", \"Topic2\", \"Topic2\", \"Topic2\", \"Topic2\", \"Topic2\", \"Topic2\", \"Topic2\", \"Topic2\", \"Topic2\", \"Topic2\", \"Topic2\", \"Topic2\", \"Topic2\", \"Topic2\", \"Topic2\", \"Topic2\", \"Topic2\", \"Topic2\", \"Topic2\", \"Topic2\", \"Topic2\", \"Topic2\", \"Topic2\", \"Topic2\", \"Topic2\", \"Topic2\", \"Topic2\", \"Topic2\", \"Topic3\", \"Topic3\", \"Topic3\", \"Topic3\", \"Topic3\", \"Topic3\", \"Topic3\", \"Topic3\", \"Topic3\", \"Topic3\", \"Topic3\", \"Topic3\", \"Topic3\", \"Topic3\", \"Topic3\", \"Topic3\", \"Topic3\", \"Topic3\", \"Topic3\", \"Topic3\", \"Topic3\", \"Topic3\", \"Topic3\", \"Topic3\", \"Topic3\", \"Topic3\", \"Topic3\", \"Topic3\", \"Topic3\", \"Topic3\", \"Topic3\", \"Topic4\", \"Topic4\", \"Topic4\", \"Topic4\", \"Topic4\", \"Topic4\", \"Topic4\", \"Topic4\", \"Topic4\", \"Topic4\", \"Topic4\", \"Topic4\", \"Topic4\", \"Topic4\", \"Topic4\", \"Topic4\", \"Topic4\", \"Topic4\", \"Topic4\", \"Topic4\", \"Topic4\", \"Topic4\", \"Topic4\", \"Topic4\", \"Topic4\", \"Topic4\", \"Topic4\", \"Topic4\", \"Topic4\", \"Topic4\", \"Topic5\", \"Topic5\", \"Topic5\", \"Topic5\", \"Topic5\", \"Topic5\", \"Topic5\", \"Topic5\", \"Topic5\", \"Topic5\", \"Topic5\", \"Topic5\", \"Topic5\", \"Topic5\", \"Topic5\", \"Topic5\", \"Topic5\", \"Topic5\", \"Topic5\", \"Topic5\", \"Topic5\", \"Topic5\", \"Topic5\", \"Topic5\", \"Topic5\", \"Topic5\", \"Topic5\", \"Topic5\", \"Topic5\", \"Topic5\", \"Topic6\", \"Topic6\", \"Topic6\", \"Topic6\", \"Topic6\", \"Topic6\", \"Topic6\", \"Topic6\", \"Topic6\", \"Topic6\", \"Topic6\", \"Topic6\", \"Topic6\", \"Topic6\", \"Topic6\", \"Topic6\", \"Topic6\", \"Topic6\", \"Topic6\", \"Topic6\", \"Topic6\", \"Topic6\", \"Topic6\", \"Topic6\", \"Topic6\", \"Topic6\", \"Topic6\", \"Topic6\", \"Topic6\", \"Topic6\", \"Topic7\", \"Topic7\", \"Topic7\", \"Topic7\", \"Topic7\", \"Topic7\", \"Topic7\", \"Topic7\", \"Topic7\", \"Topic7\", \"Topic7\", \"Topic7\", \"Topic7\", \"Topic7\", \"Topic7\", \"Topic7\", \"Topic7\", \"Topic7\", \"Topic7\", \"Topic7\", \"Topic7\", \"Topic7\", \"Topic7\", \"Topic7\", \"Topic7\", \"Topic7\", \"Topic7\", \"Topic7\", \"Topic7\", \"Topic7\", \"Topic8\", \"Topic8\", \"Topic8\", \"Topic8\", \"Topic8\", \"Topic8\", \"Topic8\", \"Topic8\", \"Topic8\", \"Topic8\", \"Topic8\", \"Topic8\", \"Topic8\", \"Topic8\", \"Topic8\", \"Topic8\", \"Topic8\", \"Topic8\", \"Topic8\", \"Topic8\", \"Topic8\", \"Topic8\", \"Topic8\", \"Topic8\", \"Topic8\", \"Topic8\", \"Topic8\", \"Topic8\", \"Topic8\", \"Topic8\", \"Topic9\", \"Topic9\", \"Topic9\", \"Topic9\", \"Topic9\", \"Topic9\", \"Topic9\", \"Topic9\", \"Topic9\", \"Topic9\", \"Topic9\", \"Topic9\", \"Topic9\", \"Topic9\", \"Topic9\", \"Topic9\", \"Topic9\", \"Topic9\", \"Topic9\", \"Topic9\", \"Topic9\", \"Topic9\", \"Topic9\", \"Topic9\", \"Topic9\", \"Topic9\", \"Topic9\", \"Topic9\", \"Topic9\", \"Topic9\", \"Topic10\", \"Topic10\", \"Topic10\", \"Topic10\", \"Topic10\", \"Topic10\", \"Topic10\", \"Topic10\", \"Topic10\", \"Topic10\", \"Topic10\", \"Topic10\", \"Topic10\", \"Topic10\", \"Topic10\", \"Topic10\", \"Topic10\", \"Topic10\", \"Topic10\", \"Topic10\", \"Topic10\", \"Topic10\", \"Topic10\", \"Topic10\", \"Topic10\", \"Topic10\", \"Topic10\", \"Topic10\", \"Topic10\", \"Topic10\"], \"logprob\": [30.0, 29.0, 28.0, 27.0, 26.0, 25.0, 24.0, 23.0, 22.0, 21.0, 20.0, 19.0, 18.0, 17.0, 16.0, 15.0, 14.0, 13.0, 12.0, 11.0, 10.0, 9.0, 8.0, 7.0, 6.0, 5.0, 4.0, 3.0, 2.0, 1.0, -2.9693, -2.9999, -3.0703, -3.1533, -3.7195, -3.824, -4.1063, -4.1516, -4.2663, -4.3109, -4.3844, -4.4072, -4.4885, -4.5849, -4.9457, -4.9742, -4.9776, -5.0152, -5.0165, -5.0369, -5.0481, -5.2189, -5.2602, -5.2614, -5.2894, -5.3779, -5.3953, -5.3958, -5.3972, -5.4125, -2.5054, -2.5233, -2.8008, -3.0006, -3.1869, -3.8517, -4.0114, -4.1075, -4.4248, -4.4957, -4.5352, -4.5806, -4.588, -4.6361, -4.6754, -4.7236, -4.7413, -4.7416, -4.7735, -4.8095, -4.8566, -4.902, -4.9868, -5.0411, -5.0464, -5.0547, -5.0622, -5.1192, -5.1339, -5.1411, -4.9169, -3.2988, -3.9357, -3.9402, -4.1127, -4.1599, -4.186, -4.3988, -4.4505, -4.5749, -4.5793, -4.6069, -4.6709, -4.6789, -4.7769, -4.7858, -4.8, -4.8391, -4.8421, -4.8474, -4.8602, -4.8782, -4.8801, -4.8869, -4.9318, -4.9325, -4.9371, -4.9464, -4.9533, -5.0121, -5.0156, -4.7528, -3.1128, -3.2738, -3.5402, -3.6882, -3.7387, -3.7822, -3.8483, -4.0252, -4.0413, -4.0829, -4.1047, -4.1085, -4.143, -4.211, -4.2309, -4.437, -4.4604, -4.4935, -4.5254, -4.624, -4.6258, -4.6332, -4.6751, -4.6812, -4.6904, -4.701, -4.7168, -4.7526, -4.81, -4.8738, -2.3007, -3.0026, -3.2266, -3.81, -3.8539, -3.9546, -3.9785, -4.065, -4.1167, -4.176, -4.2699, -4.3169, -4.3287, -4.3863, -4.4212, -4.4379, -4.511, -4.5645, -4.6439, -4.6679, -4.6735, -4.7183, -4.7155, -4.7418, -4.7692, -4.9381, -4.9544, -4.9555, -4.9725, -5.0108, -2.7351, -2.7835, -3.0635, -3.2113, -3.5227, -3.5877, -3.7192, -3.9047, -3.9906, -4.0826, -4.1717, -4.1728, -4.2681, -4.2925, -4.3252, -4.4165, -4.439, -4.4664, -4.5242, -4.5313, -4.5558, -4.691, -4.7094, -4.785, -4.8445, -4.8813, -4.9117, -4.9487, -4.9663, -5.0418, -3.3128, -3.3696, -3.6224, -3.6216, -3.6998, -3.8197, -3.9037, -3.9182, -4.0074, -4.1489, -4.2002, -4.2253, -4.2323, -4.2756, -4.3279, -4.3706, -4.4017, -4.4248, -4.4758, -4.5275, -4.5707, -4.6205, -4.6828, -4.7059, -4.7284, -4.7467, -4.7539, -4.7757, -4.9049, -4.9062, -3.1182, -3.3639, -3.6726, -3.82, -3.8969, -3.9111, -3.9938, -4.033, -4.067, -4.0935, -4.2449, -4.2722, -4.3071, -4.3074, -4.338, -4.4111, -4.5462, -4.5925, -4.5965, -4.633, -4.6503, -4.6761, -4.6962, -4.7101, -4.7233, -4.7901, -4.8004, -4.8232, -4.8273, -4.8336, -2.5789, -3.1762, -3.3797, -3.6822, -3.8247, -4.0062, -4.0771, -4.0829, -4.1845, -4.1879, -4.2985, -4.3256, -4.3484, -4.5042, -4.5438, -4.5545, -4.5826, -4.6013, -4.6026, -4.6099, -4.7258, -4.7663, -4.7981, -4.806, -4.874, -4.8891, -4.9847, -5.0024, -5.0068, -5.0402, -2.8983, -3.326, -3.4808, -3.4835, -3.6073, -3.8253, -3.9466, -4.0105, -4.0739, -4.1913, -4.2219, -4.2388, -4.278, -4.3414, -4.3671, -4.5012, -4.5577, -4.6056, -4.6521, -4.675, -4.7536, -4.7695, -4.8191, -4.8221, -4.8456, -4.9133, -4.924, -4.9347, -4.947, -4.9574], \"loglift\": [30.0, 29.0, 28.0, 27.0, 26.0, 25.0, 24.0, 23.0, 22.0, 21.0, 20.0, 19.0, 18.0, 17.0, 16.0, 15.0, 14.0, 13.0, 12.0, 11.0, 10.0, 9.0, 8.0, 7.0, 6.0, 5.0, 4.0, 3.0, 2.0, 1.0, 1.5121, 1.5121, 1.5121, 1.5121, 1.512, 1.512, 1.5119, 1.5119, 1.5119, 1.5119, 1.5118, 1.5118, 1.5118, 1.5117, 1.5115, 1.5115, 1.5115, 1.5115, 1.5115, 1.5114, 1.5114, 1.5113, 1.5112, 1.5112, 1.5112, 1.5111, 1.5111, 1.5111, 1.5111, 1.5111, 1.8043, 1.8043, 1.8043, 1.8042, 1.8042, 1.8041, 1.804, 1.804, 1.8038, 1.8038, 1.8037, 1.8037, 1.8037, 1.8037, 1.8037, 1.8036, 1.8036, 1.8036, 1.8036, 1.8035, 1.8035, 1.8035, 1.8034, 1.8033, 1.8033, 1.8033, 1.8033, 1.8032, 1.8032, 1.8032, 1.7625, 2.0592, 2.059, 2.059, 2.0589, 2.0589, 2.0589, 2.0587, 2.0587, 2.0586, 2.0586, 2.0586, 2.0585, 2.0585, 2.0584, 2.0584, 2.0584, 2.0583, 2.0583, 2.0583, 2.0583, 2.0583, 2.0583, 2.0583, 2.0582, 2.0582, 2.0582, 2.0582, 2.0582, 2.0581, 2.0581, 1.7591, 2.3306, 2.3305, 2.3304, 2.3303, 2.3303, 2.3303, 2.3303, 2.3302, 2.3302, 2.3301, 2.3301, 2.3301, 2.3301, 2.33, 2.33, 2.3298, 2.3298, 2.3298, 2.3297, 2.3296, 2.3296, 2.3296, 2.3296, 2.3296, 2.3295, 2.3295, 2.3295, 2.3295, 2.3294, 2.3293, 2.4921, 2.4919, 2.4919, 2.4916, 2.4916, 2.4915, 2.4915, 2.4914, 2.4914, 2.4913, 2.4912, 2.4912, 2.4912, 2.4911, 2.4911, 2.491, 2.4909, 2.4909, 2.4908, 2.4907, 2.4907, 2.4907, 2.4907, 2.4906, 2.4906, 2.4903, 2.4902, 2.4902, 2.4902, 2.4901, 2.6995, 2.6995, 2.6994, 2.6993, 2.6992, 2.6992, 2.6991, 2.6989, 2.6988, 2.6988, 2.6987, 2.6987, 2.6985, 2.6985, 2.6985, 2.6983, 2.6983, 2.6983, 2.6982, 2.6982, 2.6981, 2.6979, 2.6979, 2.6977, 2.6976, 2.6975, 2.6974, 2.6973, 2.6973, 2.6971, 2.7309, 2.7308, 2.7307, 2.7307, 2.7306, 2.7305, 2.7305, 2.7305, 2.7304, 2.7302, 2.7302, 2.7301, 2.7301, 2.7301, 2.73, 2.7299, 2.7299, 2.7299, 2.7298, 2.7297, 2.7296, 2.7296, 2.7294, 2.7294, 2.7293, 2.7293, 2.7293, 2.7293, 2.729, 2.729, 2.743, 2.7429, 2.7427, 2.7426, 2.7425, 2.7425, 2.7424, 2.7424, 2.7423, 2.7423, 2.7421, 2.7421, 2.7421, 2.7421, 2.742, 2.7419, 2.7417, 2.7416, 2.7416, 2.7416, 2.7415, 2.7415, 2.7414, 2.7414, 2.7414, 2.7412, 2.7412, 2.7412, 2.7412, 2.7411, 2.7882, 2.788, 2.7879, 2.7877, 2.7876, 2.7874, 2.7873, 2.7873, 2.7872, 2.7872, 2.7871, 2.787, 2.787, 2.7868, 2.7867, 2.7867, 2.7866, 2.7866, 2.7866, 2.7866, 2.7863, 2.7863, 2.7862, 2.7862, 2.786, 2.786, 2.7857, 2.7857, 2.7857, 2.7856, 3.0091, 3.0089, 3.0088, 3.0088, 3.0087, 3.0085, 3.0083, 3.0083, 3.0082, 3.008, 3.008, 3.0079, 3.0079, 3.0078, 3.0077, 3.0075, 3.0073, 3.0072, 3.0071, 3.0071, 3.0068, 3.0068, 3.0067, 3.0067, 3.0066, 3.0064, 3.0063, 3.0063, 3.0063, 3.0062]}, \"token.table\": {\"Topic\": [1, 1, 1, 4, 9, 8, 8, 10, 3, 6, 6, 8, 6, 7, 2, 1, 7, 2, 4, 8, 9, 3, 2, 8, 8, 3, 4, 9, 6, 10, 6, 5, 10, 5, 1, 2, 3, 6, 8, 3, 4, 5, 9, 7, 10, 6, 5, 5, 4, 4, 5, 8, 7, 4, 2, 4, 7, 2, 2, 3, 9, 3, 3, 10, 5, 10, 8, 10, 8, 3, 10, 10, 4, 7, 10, 6, 6, 8, 10, 3, 4, 5, 6, 1, 8, 4, 5, 9, 1, 10, 10, 3, 6, 5, 7, 5, 7, 4, 8, 9, 1, 8, 10, 1, 1, 1, 6, 10, 2, 1, 6, 2, 3, 5, 5, 6, 10, 6, 5, 2, 10, 5, 6, 1, 1, 6, 8, 1, 10, 4, 4, 3, 4, 4, 4, 2, 10, 7, 2, 7, 3, 9, 1, 2, 2, 10, 8, 10, 8, 8, 5, 5, 9, 9, 7, 9, 4, 9, 9, 7, 3, 9, 6, 10, 4, 10, 4, 7, 2, 4, 5, 6, 2, 3, 3, 4, 7, 3, 10, 8, 6, 4, 1, 9, 6, 1, 8, 10, 3, 2, 3, 2, 9, 2, 1, 5, 5, 10, 9, 2, 6, 9, 5, 8, 2, 2, 2, 7, 2, 2, 7, 7, 5, 3, 1, 2, 1, 1, 1, 10, 5, 3, 5, 4, 4, 9, 9, 9, 3, 6, 9, 1, 3, 7, 1, 7, 2, 3, 7, 4, 6, 6, 5, 7, 7, 5, 7, 9, 9, 3, 8, 6, 1, 1, 9, 3, 8, 10, 6, 9, 7, 4, 10, 8, 10, 3, 2, 9, 7, 7, 7, 2, 8, 2, 5, 9, 1, 2, 8, 3, 6, 7, 1, 4, 5, 4, 5, 8, 6, 9, 7, 5, 3, 8, 9, 7, 8, 8, 3, 6, 4, 4, 8, 1], \"Freq\": [0.9984149685410387, 0.999179483055035, 0.9989530929447233, 0.9988145531072722, 0.9968785837806887, 0.9990541318317597, 0.9987135106075107, 0.9995403806440828, 0.9992688283349926, 0.9983354048421398, 0.9968622241165579, 0.9980530168616861, 0.9996313695829636, 0.9987270311740373, 0.9988119236535002, 0.9999007791967539, 0.9990582819283698, 0.9993348811943871, 0.9995655840220392, 0.9984223324254289, 0.9968680577763376, 0.9989239313003947, 0.9993229057399113, 0.9992083019607775, 0.999137344676763, 0.9994103833170589, 0.9981799902554424, 0.9982097360135533, 0.9982347410467336, 0.9974635623681625, 0.9996172893461317, 0.9991559374883404, 0.9989599537716902, 0.9985444005424329, 0.9993312673132141, 0.9998797256686839, 0.9992594674172228, 0.9988546178561304, 0.9994257817177754, 0.9990875075951573, 0.9986666942852235, 0.9988386797181706, 0.9973329126307948, 0.998609306219978, 0.9988481784317537, 0.998739878851985, 0.9988487931157046, 0.9986576834269778, 0.9992451825860663, 0.9995329326486861, 0.9987409226475789, 0.9989094026423457, 0.9989735455274901, 0.9983761002567005, 0.9986920335257748, 0.9989278727164905, 0.9977352323766004, 0.9984556616343286, 0.9986574767935387, 0.9988312398130111, 0.9970497697893121, 0.9997095599833742, 0.9993203373685947, 0.9977609466745685, 0.9991105976427297, 0.9974186865144811, 0.9979277932134591, 0.9982322269971184, 0.998668552431344, 0.9992467059527251, 0.9994205330414355, 0.9986428952085716, 0.9996924083515514, 0.9983802105172256, 0.9971068784144606, 0.9991393080778386, 0.9986914178162547, 0.9978108864861249, 0.9976876572994311, 0.9988118552440133, 0.9990627522048324, 0.9993969210665429, 0.9987985973621436, 0.9991226861815229, 0.998712579667709, 0.9991401729148938, 0.9992119241192834, 0.9966688621581389, 0.9998508020826379, 0.9981304138527589, 0.9982142004688694, 0.9993657695170985, 0.9991581482485937, 0.9992462240437961, 0.9990415040383915, 0.9975795979775287, 0.9992418298243083, 0.9984708003314139, 0.998895103250095, 0.9997776575431924, 0.9989991728659581, 0.9978791062518569, 0.9958458643147037, 0.9994456057941009, 0.9984843342913532, 0.9991646109043227, 0.9972871356055226, 0.9971426737190312, 0.9991691313301418, 0.9992363596178304, 0.9988745613796299, 0.9990111589377425, 0.9992077716538129, 0.9976671692558101, 0.9990745031484116, 0.9989457251956821, 0.9967747432021026, 0.9994152137689958, 0.9992459030080653, 0.999899790073488, 0.9971328395321098, 0.9996960718783315, 0.998540024412637, 0.9997646069307611, 0.9990270206387912, 0.9989155691813111, 0.999490044949289, 0.9993429862629752, 0.9991587680495396, 0.9995261280177731, 0.9993775663955308, 0.9990838454851353, 0.9991256528567677, 0.9992999787536945, 0.9984890833939639, 0.9998008099843408, 0.9974364920521352, 0.9990598661798994, 0.999131023971474, 0.9980372814034747, 0.9988618340738076, 0.9987831194387187, 0.999481746190771, 0.9992409974716525, 0.9994532442006385, 0.9991266459419266, 0.9989277546141679, 0.9969285323460886, 0.998729876362659, 0.9984767053071129, 0.9982416524698271, 0.9982170609044134, 0.9993433718932804, 0.9985448137210649, 0.9984540791878223, 0.998965280430626, 0.999439821110888, 0.9993371200387463, 0.9977421489855536, 0.9984127045542018, 0.9990509296652216, 0.998688611139668, 0.9990055543054015, 0.9978082243585417, 0.9994707707528852, 0.9971608528189259, 0.9988807497525456, 0.9991028544925732, 0.958978777395647, 0.04035094228970045, 0.9978278879386236, 0.9986810348363879, 0.9992811348635657, 0.9996320321961012, 0.9990933446476206, 0.9997352740827065, 0.9980851889604238, 0.9982952201230039, 0.9957851295034954, 0.9989342388816693, 0.9981858748402496, 0.9996256302744796, 0.9987518421991506, 0.9982303276175486, 0.9969429380999605, 0.9997201666150073, 0.9984184096812965, 0.9989666792639608, 0.9987242025133154, 0.998904140905331, 0.9990957049047189, 0.9993446924478688, 0.9964299074432369, 0.9994900721201647, 0.9986506740505289, 0.9994651029982158, 0.9993013795358919, 0.9978248650282249, 0.9991465986895519, 0.9994066558499409, 0.9988265622596127, 0.9968142623494701, 0.9986124928351754, 0.9981754753091368, 0.9991948549460096, 0.9998365579327967, 0.9992981809569232, 0.9989441028892813, 0.9992244216895934, 0.9990392095824033, 0.9994287992864546, 0.9982269037973311, 0.9988502957718148, 0.9989775685433888, 0.999777529258622, 0.9999323353898535, 0.9997500435831643, 0.999465577578726, 0.9984267140179303, 0.9953884205390752, 0.9998543862725326, 0.9996816935103693, 0.9997457676647439, 0.9987683897012686, 0.9990800103944346, 0.9989544342556826, 0.9970217675459415, 0.998019077648772, 0.998466262057747, 0.9995220710867965, 0.9973748978964799, 0.9995293763290507, 0.9985470193434227, 0.999340682227245, 0.9995711901163896, 0.9996965104584986, 0.9996885115812815, 0.999179656846584, 0.9991024048585628, 0.9993520556786166, 0.9985278626385512, 0.9976822185848931, 0.998382178283755, 0.9982912348982478, 0.9967172128176672, 0.9990850659922288, 0.997343299318973, 0.998268637245837, 0.9977232176288091, 0.7406413762945288, 0.2584983627067179, 0.9989404048441368, 0.9999042007843895, 0.9998698278655781, 0.9983072060301589, 0.9993120295235027, 0.9996110744876185, 0.9991643057620491, 0.9981506568235089, 0.9986346302374833, 0.9994709538371037, 0.9994180241627302, 0.9980651994919325, 0.9983670380054553, 0.9972042126113428, 0.9986750836666, 0.9997850446155913, 0.999535863071665, 0.9993014602639538, 0.9982313776560209, 0.9991096313220529, 0.9994452592633416, 0.9984198260745997, 0.9987163602085919, 0.9988963177703905, 0.9984633824246125, 0.9992264111611572, 0.9990372938337108, 0.9982601609064091, 0.9991456433280268, 0.997941649767039, 0.9978678136550279, 0.9995755403297313, 0.9983813973700967, 0.9990809115859967, 0.9997116266423831, 0.9983245871339995, 0.9984721320844213, 0.9996697250365195, 0.9997478385665832, 0.9986028326406001, 0.9986902899516696, 0.9991425792153236, 0.9983911677809254, 0.9989252836371586, 0.9992664591103354, 0.9986553171003573, 0.9978107347573745, 0.9995594285875569, 0.9991016669555624, 0.9992022620580953, 0.9994414442729702, 0.9981180479442251, 0.9997768685994881], \"Term\": [\"apple\", \"google\", \"group\", \"ru\", \"\\u0430\\u0432\\u0433\\u0443\\u0441\\u0442\", \"\\u0430\\u043a\\u0442\\u0438\\u0432\", \"\\u0430\\u043a\\u0446\\u0438\\u043e\\u043d\\u0435\\u0440\", \"\\u0430\\u043a\\u0446\\u0438\\u044f\", \"\\u0430\\u043b\\u043a\\u043e\\u0433\\u043e\\u043b\\u044c\", \"\\u0430\\u043b\\u044c\\u0444\\u0430\", \"\\u0430\\u043b\\u044c\\u0444\\u0430_\\u0431\\u0430\\u043d\\u043a\", \"\\u0430\\u043f\\u0440\\u0435\\u043b\\u044c\", \"\\u0431\\u0430\\u043d\\u043a\", \"\\u0431\\u0430\\u043d\\u043a\\u043e\\u0432\\u0441\\u043a\\u0438\\u0439\", \"\\u0431\\u0430\\u043d\\u043a\\u0440\\u043e\\u0442\\u0441\\u0442\\u0432\\u043e\", \"\\u0431\\u0438\\u0437\\u043d\\u0435\\u0441\", \"\\u0431\\u0438\\u0437\\u043d\\u0435\\u0441\\u043c\\u0435\\u043d\", \"\\u0431\\u043e\\u043b\\u0435\\u0435\", \"\\u0431\\u043e\\u043b\\u044c\\u0448\\u043e\\u0439\", \"\\u0431\\u0440\\u0435\\u043d\\u0434\", \"\\u0432\\u0432\\u0435\\u0434\\u0435\\u043d\\u0438\\u0435\", \"\\u0432\\u0432\\u0435\\u0441\\u0442\\u0438\", \"\\u0432\\u0435\\u0441\\u044c\", \"\\u0432\\u0437\\u043d\\u043e\\u0441\", \"\\u0432\\u043b\\u0430\\u0434\\u0435\\u043b\\u0435\\u0446\", \"\\u0432\\u043b\\u0430\\u0441\\u0442\\u044c\", \"\\u0432\\u043e\\u0437\\u043c\\u043e\\u0436\\u043d\\u043e\\u0441\\u0442\\u044c\", \"\\u0432\\u043e\\u0437\\u043c\\u043e\\u0436\\u043d\\u044b\\u0439\", \"\\u0432\\u043f\\u0435\\u0440\\u0432\\u044b\\u0435\", \"\\u0432\\u0440\\u0435\\u043c\\u044f\", \"\\u0432\\u0442\\u0431\", \"\\u0432\\u044b\\u043f\\u043b\\u0430\\u0442\\u0430\", \"\\u0432\\u044b\\u0440\\u0443\\u0447\\u043a\\u0430\", \"\\u0432\\u044d\\u0431\", \"\\u0433\\u043b\\u0430\\u0432\\u0430\", \"\\u0433\\u043e\\u0434\", \"\\u0433\\u043e\\u0441\\u0434\\u0443\\u043c\\u0430\", \"\\u0433\\u043e\\u0442\\u043e\\u0432\\u044b\\u0439\", \"\\u0433\\u0440\\u0443\\u043f\\u043f\\u0430\", \"\\u0434\\u0430\\u043d\\u043d\\u044b\\u0435\", \"\\u0434\\u0430\\u0442\\u044c\", \"\\u0434\\u0432\\u0430\", \"\\u0434\\u0435\\u043a\\u0430\\u0431\\u0440\\u044c\", \"\\u0434\\u0435\\u043b\\u043e\", \"\\u0434\\u0435\\u043d\\u044c\", \"\\u0434\\u0435\\u043d\\u044c\\u0433\\u0430\", \"\\u0434\\u0438\\u0440\\u0435\\u043a\\u0442\\u043e\\u0440\", \"\\u0434\\u043e\\u0433\\u043e\\u0432\\u043e\\u0440\", \"\\u0434\\u043e\\u043a\\u0443\\u043c\\u0435\\u043d\\u0442\", \"\\u0434\\u043e\\u043b\\u0433\", \"\\u0434\\u043e\\u043b\\u0436\\u043d\\u044b\\u0439\", \"\\u0434\\u043e\\u043b\\u043b\\u0430\\u0440\", \"\\u0434\\u043e\\u043b\\u044f\", \"\\u0434\\u043e\\u043c\", \"\\u0434\\u043e\\u0441\\u0442\\u0430\\u0432\\u043a\\u0430\", \"\\u0434\\u043e\\u0445\\u043e\\u0434\", \"\\u0434\\u043e\\u0447\\u043a\\u0430\", \"\\u0435\\u0434\\u0438\\u043d\\u044b\\u0439\", \"\\u0435\\u0449e\", \"\\u0436\\u0438\\u0437\\u043d\\u044c\", \"\\u0436\\u0438\\u043b\\u044ce\", \"\\u0437\\u0430\\u043a\\u043e\\u043d\", \"\\u0437\\u0430\\u043a\\u043e\\u043d\\u043e\\u043f\\u0440\\u043e\\u0435\\u043a\\u0442\", \"\\u0437\\u0430\\u043f\\u0440\\u0435\\u0442\", \"\\u0437\\u0430\\u0440\\u043f\\u043b\\u0430\\u0442\\u0430\", \"\\u0437\\u0430\\u044f\\u0432\\u043a\\u0430\", \"\\u0437\\u0430\\u044f\\u0432\\u043b\\u0435\\u043d\\u0438\\u0435\", \"\\u0438\\u043d\\u0432\\u0435\\u0441\\u0442\\u0438\\u0446\\u0438\\u044f\", \"\\u0438\\u043d\\u0432\\u0435\\u0441\\u0442\\u043e\\u0440\", \"\\u0438\\u043d\\u043e\\u0441\\u0442\\u0440\\u0430\\u043d\\u043d\\u044b\\u0439\", \"\\u0438\\u043d\\u0442\\u0435\\u0440\\u043d\\u0435\\u0442\", \"\\u0438\\u043d\\u0442\\u0435\\u0440\\u043d\\u0435\\u0442_\\u043c\\u0430\\u0433\\u0430\\u0437\\u0438\\u043d\", \"\\u0438\\u043f\", \"\\u0438\\u043f_\\u044e\\u0440\\u043b\\u0438\\u0446\\u043e\", \"\\u0438\\u043f\\u043e\\u0442\\u0435\\u043a\\u0430\", \"\\u0438\\u0441\\u043a\", \"\\u0438\\u0441\\u0441\\u043b\\u0435\\u0434\\u043e\\u0432\\u0430\\u043d\\u0438\\u0435\", \"\\u0438\\u0442\\u043e\\u0433\", \"\\u0438\\u044e\\u043d\\u044c\", \"\\u043a\\u0430\\u0431\\u043c\\u0438\\u043d\", \"\\u043a\\u0430\\u043a\\u043e\\u0439\", \"\\u043a\\u0430\\u043f\\u0438\\u0442\\u0430\\u043b\", \"\\u043a\\u0430\\u0440\\u0442\\u0430\", \"\\u043a\\u0430\\u0441\\u0441\\u0430\", \"\\u043a\\u0432\\u0430\\u0440\\u0442\\u0430\\u043b\", \"\\u043a\\u043a\\u0442\", \"\\u043a\\u043b\\u0438\\u0435\\u043d\\u0442\", \"\\u043a\\u043e\\u043c\\u0438\\u0441\\u0441\\u0438\\u044f\", \"\\u043a\\u043e\\u043c\\u043f\\u0430\\u043d\\u0438\\u044f\", \"\\u043a\\u043e\\u043d\\u0435\\u0446\", \"\\u043a\\u043e\\u043d\\u0435\\u0446_\\u0433\\u043e\\u0434\", \"\\u043a\\u043e\\u0442\\u043e\\u0440\\u044b\\u0439\", \"\\u043a\\u0440\\u0435\\u0434\\u0438\\u0442\", \"\\u043a\\u0440\\u0435\\u0434\\u0438\\u0442\\u043d\\u044b\\u0439\", \"\\u043a\\u0440\\u0443\\u043f\\u043d\\u044b\\u0439\", \"\\u043b\\u0438\\u0437\\u0438\\u043d\\u0433\", \"\\u043b\\u0438\\u0446\\u0435\\u043d\\u0437\\u0438\\u044f\", \"\\u043b\\u044c\\u0433\\u043e\\u0442\\u0430\", \"\\u043b\\u044c\\u0433\\u043e\\u0442\\u043d\\u044b\\u0439\", \"\\u043c\\u0430\\u0433\\u0430\\u0437\\u0438\\u043d\", \"\\u043c\\u0430\\u0433\\u043d\\u0438\\u0442\", \"\\u043c\\u0430\\u0439\", \"\\u043c\\u0430\\u043b\\u0435\\u043d\\u044c\\u043a\\u0438\\u0439\", \"\\u043c\\u0430\\u043b\\u043e\\u0435\", \"\\u043c\\u0430\\u043b\\u043e\\u0435_\\u0431\\u0438\\u0437\\u043d\\u0435\\u0441\", \"\\u043c\\u0430\\u043b\\u044b\\u0439\", \"\\u043c\\u0430\\u043b\\u044b\\u0439_\\u0431\\u0438\\u0437\\u043d\\u0435\\u0441\", \"\\u043c\\u0430\\u0440\\u043a\\u0435\\u0442\\u043f\\u043b\\u0435\\u0439\\u0441\", \"\\u043c\\u0430\\u0440\\u043a\\u0438\\u0440\\u043e\\u0432\\u043a\\u0430\", \"\\u043c\\u0435\\u0433\\u0430\\u0444\\u043e\\u043d\", \"\\u043c\\u0435\\u0440\\u0430\", \"\\u043c\\u0435\\u0441\\u044f\\u0446\", \"\\u043c\\u0438\\u043d\\u043f\\u0440\\u043e\\u043c\\u0442\\u043e\\u0440\\u0433\", \"\\u043c\\u0438\\u043d\\u0442\\u0440\\u0443\\u0434\", \"\\u043c\\u0438\\u043d\\u0444\\u0438\\u043d\", \"\\u043c\\u0438\\u0440\", \"\\u043c\\u0438\\u0448\\u0443\\u0441\\u0442\\u0438\\u043d\", \"\\u043c\\u043b\\u043d\", \"\\u043c\\u043b\\u043d_\\u0440\\u0443\\u0431\\u043b\\u044c\", \"\\u043c\\u043b\\u0440\\u0434\", \"\\u043c\\u043b\\u0440\\u0434_\\u0434\\u043e\\u043b\\u043b\\u0430\\u0440\", \"\\u043c\\u043b\\u0440\\u0434_\\u0440\\u0443\\u0431\\u043b\\u044c\", \"\\u043c\\u043e\\u0431\\u0438\\u043b\\u044c\\u043d\\u044b\\u0439\", \"\\u043c\\u043e\\u0441\\u043a\\u0432\\u0430\", \"\\u043c\\u043e\\u0441\\u043a\\u043e\\u0432\\u0441\\u043a\\u0438\\u0439\", \"\\u043c\\u0441\\u0431\", \"\\u043c\\u0441\\u043f\", \"\\u043c\\u0442\\u0441\", \"\\u043c\\u0444\\u043e\", \"\\u043d\\u0430\\u043b\\u043e\\u0433\", \"\\u043d\\u0430\\u043b\\u043e\\u0433\\u043e\\u0432\\u044b\\u0439\", \"\\u043d\\u0430\\u0440\\u0443\\u0448\\u0435\\u043d\\u0438\\u0435\", \"\\u043d\\u0430\\u0447\\u0430\\u043b\\u043e\", \"\\u043d\\u0434\\u0441\", \"\\u043d\\u0434\\u0444\\u043b\", \"\\u043d\\u043e\\u0432\\u044b\\u0439\", \"\\u043d\\u043e\\u044f\\u0431\\u0440\\u044c\", \"\\u043d\\u043f\\u0444\", \"\\u043e\\u0431\\u044ae\\u043c\", \"\\u043e\\u0431\\u044f\\u0437\\u0430\\u0442\\u044c\", \"\\u043e\\u0433\\u0440\\u0430\\u043d\\u0438\\u0447\\u0435\\u043d\\u0438\\u0435\", \"\\u043e\\u0434\\u0438\\u043d\", \"\\u043e\\u043d\\u043b\\u0430\\u0439\\u043d\", \"\\u043e\\u043f\\u0435\\u0440\\u0430\\u0442\\u043e\\u0440\", \"\\u043e\\u043f\\u043b\\u0430\\u0442\\u0430\", \"\\u043e\\u0441\\u0430\\u0433\\u043e\", \"\\u043e\\u0442\\u043a\\u0440\\u044b\\u0442\\u0438\\u0435\", \"\\u043e\\u0442\\u043c\\u0435\\u043d\\u0438\\u0442\\u044c\", \"\\u043e\\u0442\\u0447e\\u0442\", \"\\u043e\\u0442\\u0447e\\u0442\\u043d\\u043e\\u0441\\u0442\\u044c\", \"\\u043f\\u0430\\u043d\\u0434\\u0435\\u043c\\u0438\\u044f\", \"\\u043f\\u0435\\u043d\\u0441\\u0438\\u043e\\u043d\\u043d\\u044b\\u0439\", \"\\u043f\\u0435\\u0440\\u0432\\u044b\\u0439\", \"\\u043f\\u0435\\u0440\\u0435\\u0432\\u043e\\u0434\", \"\\u043f\\u0435\\u0440\\u0435\\u0445\\u043e\\u0434\", \"\\u043f\\u0435\\u0442\\u0435\\u0440\\u0431\\u0443\\u0440\\u0433\", \"\\u043f\\u043b\\u0430\\u0442e\\u0436\", \"\\u043f\\u043b\\u0430\\u0442e\\u0436\\u043d\\u044b\\u0439\", \"\\u043f\\u043b\\u0430\\u0442e\\u0436\\u043d\\u044b\\u0439_\\u0441\\u0438\\u0441\\u0442\\u0435\\u043c\\u0430\", \"\\u043f\\u043b\\u0430\\u0442\\u0438\\u0442\\u044c\", \"\\u043f\\u043b\\u0430\\u0442\\u0444\\u043e\\u0440\\u043c\\u0430\", \"\\u043f\\u043e\\u0432\\u044b\\u0448\\u0435\\u043d\\u0438\\u0435\", \"\\u043f\\u043e\\u0434\\u0434\\u0435\\u0440\\u0436\\u043a\\u0430\", \"\\u043f\\u043e\\u043a\\u0443\\u043f\\u0430\\u0442\\u0435\\u043b\\u044c\", \"\\u043f\\u043e\\u043a\\u0443\\u043f\\u043a\\u0430\", \"\\u043f\\u043e\\u043b\\u0438\\u0441\", \"\\u043f\\u043e\\u043b\\u0443\\u0447\\u0438\\u0442\\u044c\", \"\\u043f\\u043e\\u043b\\u044c\\u0437\\u043e\\u0432\\u0430\\u0442\\u0435\\u043b\\u044c\", \"\\u043f\\u043e\\u0440\\u044f\\u0434\\u043e\\u043a\", \"\\u043f\\u043e\\u0440\\u044f\\u0434\\u043e\\u043a\", \"\\u043f\\u043e\\u0447\\u0442\\u0430\", \"\\u043f\\u043e\\u0447\\u0442\\u0438\", \"\\u043f\\u0440\\u0430\\u0432\\u0438\\u043b\\u043e\", \"\\u043f\\u0440\\u0430\\u0432\\u0438\\u0442\\u0435\\u043b\\u044c\\u0441\\u0442\\u0432\\u043e\", \"\\u043f\\u0440\\u0430\\u0432\\u043e\", \"\\u043f\\u0440\\u0435\\u0434\\u043f\\u0440\\u0438\\u043d\\u0438\\u043c\\u0430\\u0442\\u0435\\u043b\\u044c\", \"\\u043f\\u0440\\u0435\\u0434\\u043f\\u0440\\u0438\\u044f\\u0442\\u0438\\u0435\", \"\\u043f\\u0440\\u0435\\u0437\\u0438\\u0434\\u0435\\u043d\\u0442\", \"\\u043f\\u0440\\u0438e\\u043c\", \"\\u043f\\u0440\\u0438\\u0431\\u044b\\u043b\\u044c\", \"\\u043f\\u0440\\u0438\\u043b\\u043e\\u0436\\u0435\\u043d\\u0438\\u0435\", \"\\u043f\\u0440\\u043e\\u0432\\u0435\\u0440\\u043a\\u0430\", \"\\u043f\\u0440\\u043e\\u0433\\u0440\\u0430\\u043c\\u043c\\u0430\", \"\\u043f\\u0440\\u043e\\u0434\\u0430\\u0432\\u0430\\u0442\\u044c\", \"\\u043f\\u0440\\u043e\\u0434\\u0430\\u0432\\u0435\\u0446\", \"\\u043f\\u0440\\u043e\\u0434\\u0430\\u0436\\u0430\", \"\\u043f\\u0440\\u043e\\u0434\\u043b\\u0438\\u0442\\u044c\", \"\\u043f\\u0440\\u043e\\u0434\\u0443\\u043a\\u0442\", \"\\u043f\\u0440\\u043e\\u0434\\u0443\\u043a\\u0446\\u0438\\u044f\", \"\\u043f\\u0440\\u043e\\u0435\\u043a\\u0442\", \"\\u043f\\u0440\\u043e\\u0438\\u0437\\u0432\\u043e\\u0434\\u0438\\u0442\\u0435\\u043b\\u044c\", \"\\u043f\\u0443\\u0442\\u0438\\u043d\", \"\\u043f\\u044f\\u0442\\u044c\", \"\\u0440\\u0430\\u0431\\u043e\\u0442\\u0430\", \"\\u0440\\u0430\\u0431\\u043e\\u0442\\u0430\\u0442\\u044c\", \"\\u0440\\u0430\\u0431\\u043e\\u0442\\u043d\\u0438\\u043a\", \"\\u0440\\u0430\\u0431\\u043e\\u0442\\u043e\\u0434\\u0430\\u0442\\u0435\\u043b\\u044c\", \"\\u0440\\u0430\\u0431\\u043e\\u0447\\u0438\\u0439\", \"\\u0440\\u0430\\u0437\", \"\\u0440\\u0430\\u0437\\u0432\\u0438\\u0442\\u0438\\u0435\", \"\\u0440\\u0430\\u0437\\u043c\\u0435\\u0440\", \"\\u0440\\u0430\\u0437\\u0440\\u0435\\u0448\\u0438\\u0442\\u044c\", \"\\u0440\\u0430\\u0441\\u0445\\u043e\\u0434\", \"\\u0440\\u0430\\u0441\\u0447e\\u0442\", \"\\u0440\\u0435\\u0433\\u0438\\u043e\\u043d\", \"\\u0440\\u0435\\u0434\\u0430\\u043a\\u0446\\u0438\\u044f\", \"\\u0440\\u0435\\u0435\\u0441\\u0442\\u0440\", \"\\u0440\\u0435\\u0436\\u0438\\u043c\", \"\\u0440\\u0435\\u0439\\u0442\\u0438\\u043d\\u0433\", \"\\u0440\\u0435\\u043a\\u043b\\u0430\\u043c\\u0430\", \"\\u0440\\u0435\\u0442\\u0435\\u0439\\u043b\\u0435\\u0440\", \"\\u0440\\u0435\\u0448\\u0435\\u043d\\u0438\\u0435\", \"\\u0440\\u043e\\u0441\\u0433\\u043e\\u0441\\u0441\\u0442\\u0440\\u0430\\u0445\", \"\\u0440\\u043e\\u0441\\u043f\\u043e\\u0442\\u0440\\u0435\\u0431\\u043d\\u0430\\u0434\\u0437\\u043e\\u0440\", \"\\u0440\\u043e\\u0441\\u0441\\u0438\\u0439\\u0441\\u043a\\u0438\\u0439\", \"\\u0440\\u043e\\u0441\\u0441\\u0438\\u044f\", \"\\u0440\\u043e\\u0441\\u0441\\u0438\\u044f\\u043d\\u0438\\u043d\", \"\\u0440\\u043e\\u0441\\u0442\", \"\\u0440\\u043e\\u0441\\u0442\\u0435\\u043b\\u0435\\u043a\\u043e\\u043c\", \"\\u0440\\u0441\\u0430\", \"\\u0440\\u0443\\u0431\\u043b\\u044c\", \"\\u0440\\u0444\", \"\\u0440\\u044b\\u043d\\u043e\\u043a\", \"\\u0441\\u0430\\u0439\\u0442\", \"\\u0441\\u0430\\u043c\\u043e\\u0437\\u0430\\u043d\\u044f\\u0442\\u043e\\u0439\", \"\\u0441\\u0430\\u043c\\u044b\\u0439\", \"\\u0441\\u0430\\u043d\\u043a\\u0442\", \"\\u0441\\u0430\\u043d\\u043a\\u0442_\\u043f\\u0435\\u0442\\u0435\\u0440\\u0431\\u0443\\u0440\\u0433\", \"\\u0441\\u0430\\u043d\\u043a\\u0446\\u0438\\u044f\", \"\\u0441\\u0431\\u0435\\u0440\\u0431\\u0430\\u043d\\u043a\", \"\\u0441\\u0431\\u043e\\u0440\", \"\\u0441\\u0432\\u043e\\u0439\", \"\\u0441\\u0432\\u044f\\u0437\\u044c\", \"\\u0441\\u0434\\u0435\\u043b\\u043a\\u0430\", \"\\u0441\\u0435\\u0440\\u0432\\u0438\\u0441\", \"\\u0441\\u0435\\u0442\\u044c\", \"\\u0441\\u0438\\u0441\\u0442\\u0435\\u043c\\u0430\", \"\\u0441\\u043a\", \"\\u0441\\u043c\\u0430\\u0440\\u0442\\u0444\\u043e\\u043d\", \"\\u0441\\u043c\\u0438\", \"\\u0441\\u043d\\u0438\\u0436\\u0435\\u043d\\u0438\\u0435\", \"\\u0441\\u043d\\u0438\\u0437\\u0438\\u0442\\u044c\", \"\\u0441\\u043e\\u0431\\u0441\\u0442\\u0432\\u0435\\u043d\\u043d\\u044b\\u0439\", \"\\u0441\\u043e\\u0432\\u0435\\u0442\", \"\\u0441\\u043e\\u0432\\u0435\\u0442_\\u0434\\u0438\\u0440\\u0435\\u043a\\u0442\\u043e\\u0440\", \"\\u0441\\u043e\\u0442\\u0440\\u0443\\u0434\\u043d\\u0438\\u043a\", \"\\u0441\\u043f\\u0438\\u0441\\u043e\\u043a\", \"\\u0441\\u043f\\u0440\\u043e\\u0441\", \"\\u0441\\u0440\\u0435\\u0434\\u0441\\u0442\\u0432\\u043e\", \"\\u0441\\u0440\\u043e\\u043a\", \"\\u0441\\u0440\\u043e\\u043a\", \"\\u0441\\u0442\\u0430\\u0432\\u043a\\u0430\", \"\\u0441\\u0442\\u0430\\u0442\\u044c\\u044f\", \"\\u0441\\u0442\\u0430\\u0442\\u044c\\u044f_\\u0440\\u0435\\u0434\\u0430\\u043a\\u0446\\u0438\\u044f\", \"\\u0441\\u0442\\u043e\\u0438\\u043c\\u043e\\u0441\\u0442\\u044c\", \"\\u0441\\u0442\\u0440\\u0430\\u0445\\u043e\\u0432\\u0430\\u043d\\u0438\\u0435\", \"\\u0441\\u0442\\u0440\\u0430\\u0445\\u043e\\u0432\\u043e\\u0439\", \"\\u0441\\u0442\\u0440\\u0430\\u0445\\u043e\\u0432\\u0449\\u0438\\u043a\", \"\\u0441\\u0442\\u0440\\u0443\\u043a\\u0442\\u0443\\u0440\\u0430\", \"\\u0441\\u0443\\u0431\\u0441\\u0438\\u0434\\u0438\\u044f\", \"\\u0441\\u0443\\u0434\", \"\\u0441\\u0447e\\u0442\", \"\\u0441\\u0448\\u0430\", \"\\u0442\\u0430\\u0440\\u0438\\u0444\", \"\\u0442\\u0435\\u043f\\u0435\\u0440\\u044c\", \"\\u0442\\u0438\\u0442\\u043e\\u0432\", \"\\u0442\\u043e\\u0432\\u0430\\u0440\", \"\\u0442\\u043e\\u0440\\u0433\\u043e\\u0432\\u043b\\u044f\", \"\\u0442\\u043e\\u0440\\u0433\\u043e\\u0432\\u044b\\u0439\", \"\\u0442\\u043e\\u0440\\u0433\\u043e\\u0432\\u044b\\u0439_\\u0441\\u0435\\u0442\\u044c\", \"\\u0442\\u0440\\u0430\\u043d\\u0441\\u0430\\u044d\\u0440\\u043e\", \"\\u0442\\u0440\\u0435\\u0431\\u043e\\u0432\\u0430\\u043d\\u0438\\u0435\", \"\\u0442\\u0440\\u0435\\u0442\\u044c\", \"\\u0442\\u0440\\u0438\", \"\\u0442\\u0440\\u0443\\u0434\\u043e\\u0432\\u043e\\u0439\", \"\\u0442\\u0446\", \"\\u0442\\u044b\\u0441\", \"\\u0442\\u044b\\u0441\\u044f\\u0447\\u0430\", \"\\u0443\\u0436\\u0435\", \"\\u0443\\u0441\\u043b\\u043e\\u0432\\u0438\\u0435\", \"\\u0443\\u0441\\u043b\\u0443\\u0433\\u0430\", \"\\u0443\\u0441\\u043d\", \"\\u0444\\u0430\\u0441\", \"\\u0444\\u0438\\u0437\\u043b\\u0438\\u0446\\u043e\", \"\\u0444\\u0438\\u043d\\u0430\\u043d\\u0441\\u043e\\u0432\\u044b\\u0439\", \"\\u0444\\u043d\\u0441\", \"\\u0444\\u043e\\u043d\\u0434\", \"\\u0444\\u043e\\u0440\\u043c\\u0430\", \"\\u0446\\u0431\", \"\\u0446\\u0435\\u043d\\u0430\", \"\\u0446\\u0435\\u043d\\u0442\\u0440\", \"\\u0446\\u0435\\u043d\\u0442\\u0440\\u043e\\u0431\\u0430\\u043d\\u043a\", \"\\u0446\\u0438\\u0444\\u0440\\u043e\\u0432\\u043e\\u0439\", \"\\u0447\\u0430\\u0441\\u0442\\u044b\\u0439\", \"\\u0447\\u0435\\u043a\", \"\\u0447\\u0438\\u0441\\u043b\\u043e\", \"\\u0447\\u0438\\u0441\\u0442\\u044b\\u0439\", \"\\u0447\\u0438\\u0441\\u0442\\u044b\\u0439_\\u043f\\u0440\\u0438\\u0431\\u044b\\u043b\\u044c\", \"\\u0448\\u0442\\u0440\\u0430\\u0444\", \"\\u044d\\u043a\\u0441\\u043f\\u0435\\u0440\\u0442\", \"\\u044d\\u043b\\u0435\\u043a\\u0442\\u0440\\u043e\\u043d\\u043d\\u044b\\u0439\", \"\\u044e\\u0440\\u043b\\u0438\\u0446\\u043e\", \"\\u044f\\u043d\\u0432\\u0430\\u0440\\u044c\", \"\\u044f\\u043d\\u0434\\u0435\\u043a\\u0441\"]}, \"R\": 30, \"lambda.step\": 0.01, \"plot.opts\": {\"xlab\": \"PC1\", \"ylab\": \"PC2\"}, \"topic.order\": [3, 7, 5, 4, 6, 10, 9, 2, 1, 8]};\n",
       "\n",
       "function LDAvis_load_lib(url, callback){\n",
       "  var s = document.createElement('script');\n",
       "  s.src = url;\n",
       "  s.async = true;\n",
       "  s.onreadystatechange = s.onload = callback;\n",
       "  s.onerror = function(){console.warn(\"failed to load library \" + url);};\n",
       "  document.getElementsByTagName(\"head\")[0].appendChild(s);\n",
       "}\n",
       "\n",
       "if(typeof(LDAvis) !== \"undefined\"){\n",
       "   // already loaded: just create the visualization\n",
       "   !function(LDAvis){\n",
       "       new LDAvis(\"#\" + \"ldavis_el2411397540637969285720323744\", ldavis_el2411397540637969285720323744_data);\n",
       "   }(LDAvis);\n",
       "}else if(typeof define === \"function\" && define.amd){\n",
       "   // require.js is available: use it to load d3/LDAvis\n",
       "   require.config({paths: {d3: \"https://d3js.org/d3.v5\"}});\n",
       "   require([\"d3\"], function(d3){\n",
       "      window.d3 = d3;\n",
       "      LDAvis_load_lib(\"https://cdn.jsdelivr.net/gh/bmabey/pyLDAvis@3.3.1/pyLDAvis/js/ldavis.v3.0.0.js\", function(){\n",
       "        new LDAvis(\"#\" + \"ldavis_el2411397540637969285720323744\", ldavis_el2411397540637969285720323744_data);\n",
       "      });\n",
       "    });\n",
       "}else{\n",
       "    // require.js not available: dynamically load d3 & LDAvis\n",
       "    LDAvis_load_lib(\"https://d3js.org/d3.v5.js\", function(){\n",
       "         LDAvis_load_lib(\"https://cdn.jsdelivr.net/gh/bmabey/pyLDAvis@3.3.1/pyLDAvis/js/ldavis.v3.0.0.js\", function(){\n",
       "                 new LDAvis(\"#\" + \"ldavis_el2411397540637969285720323744\", ldavis_el2411397540637969285720323744_data);\n",
       "            })\n",
       "         });\n",
       "}\n",
       "</script>"
      ],
      "text/plain": [
       "<IPython.core.display.HTML object>"
      ]
     },
     "execution_count": 88,
     "metadata": {},
     "output_type": "execute_result"
    }
   ],
   "source": [
    "import pyLDAvis.gensim_models as gensimvis\n",
    "\n",
    "vis = gensimvis.prepare(model, corpus, dictionary)\n",
    "pyLDAvis.display(vis)"
   ]
  },
  {
   "cell_type": "code",
   "execution_count": 93,
   "metadata": {
    "id": "iKtOm71jAztN"
   },
   "outputs": [],
   "source": [
    "with open('/home/jovyan/work/lda_last.pkl', 'wb') as f:\n",
    "     pickle.dump(model, f)"
   ]
  },
  {
   "cell_type": "code",
   "execution_count": 90,
   "metadata": {},
   "outputs": [
    {
     "data": {
      "text/plain": [
       "'изменение цен'"
      ]
     },
     "execution_count": 90,
     "metadata": {},
     "output_type": "execute_result"
    }
   ],
   "source": [
    "W2V_SOURCE = \"/home/jovyan/work/word2vec_moretech.bin\" # Путь к файлу custom_word2vec_uncod.bin\n",
    "prep = Preparator()\n",
    "w2v = KeyedVectors.load_word2vec_format(\n",
    "            W2V_SOURCE, binary=True, unicode_errors=\"ignore\"\n",
    "        )\n",
    "topics = [\n",
    "    'нормативные проверки',\n",
    "    'поставки',\n",
    "    'изменение цен',\n",
    "    'розничная торговля',\n",
    "    'банки',\n",
    "    'право',\n",
    "    'рынок',\n",
    "    'малый бизнес',\n",
    "    'валюта',\n",
    "    'судебные дела'\n",
    "]\n",
    "def get_topic(new):\n",
    "    tokens = extract_keywords(prep.norm_sentence(new), w2v)\n",
    "    bow = [i[1] for i in model.get_document_topics(dictionary.doc2bow(tokens))]\n",
    "    return topics[np.array(bow).argmax()]\n",
    "\n",
    "get_topic(  \"\"\"\n",
    "            Это какая-то новость о том, что у магазинов начались проблемы\n",
    "            с продажей алкогольной продукции\n",
    "            \"\"\")"
   ]
  },
  {
   "cell_type": "code",
   "execution_count": null,
   "metadata": {},
   "outputs": [],
   "source": [
    "topics = [\n",
    "    'нормативные проверки',\n",
    "    'поставки',\n",
    "    'изменение цен',\n",
    "    'розничная торговля',\n",
    "    'банки',\n",
    "    'право',\n",
    "    'рынок',\n",
    "    'малый бизнес',\n",
    "    'валюта',\n",
    "    'судебные дела'\n",
    "]"
   ]
  },
  {
   "cell_type": "code",
   "execution_count": 24,
   "metadata": {},
   "outputs": [
    {
     "name": "stdout",
     "output_type": "stream",
     "text": [
      "Topic: 0 \n",
      "Words: 0.037*\"получить\" + 0.035*\"акция\" + 0.033*\"проверка\" + 0.031*\"владелец\" + 0.029*\"оператор\" + 0.029*\"сделка\" + 0.026*\"производитель\" + 0.025*\"банкротство\" + 0.024*\"назвать\" + 0.020*\"форма\"\n",
      "\n",
      "\n",
      "Topic: 1 \n",
      "Words: 0.071*\"сбербанк\" + 0.053*\"товар\" + 0.053*\"интернет\" + 0.048*\"штраф\" + 0.032*\"продукт\" + 0.027*\"касса\" + 0.023*\"нарушение\" + 0.023*\"выплата\" + 0.021*\"исследование\" + 0.020*\"ндфл\"\n",
      "\n",
      "\n",
      "Topic: 2 \n",
      "Words: 0.057*\"цена\" + 0.050*\"фас\" + 0.047*\"закон\" + 0.044*\"рост\" + 0.033*\"доля\" + 0.032*\"планировать\" + 0.023*\"реклама\" + 0.023*\"квартал\" + 0.023*\"тысяча\" + 0.023*\"магнит\"\n",
      "\n",
      "\n",
      "Topic: 3 \n",
      "Words: 0.088*\"магазин\" + 0.077*\"продажа\" + 0.072*\"фнс\" + 0.037*\"минфин\" + 0.035*\"сми\" + 0.028*\"группа\" + 0.025*\"алкоголь\" + 0.024*\"прибыль\" + 0.024*\"торговля\" + 0.020*\"власть\"\n",
      "\n",
      "\n",
      "Topic: 4 \n",
      "Words: 0.082*\"цб\" + 0.065*\"рф\" + 0.043*\"предложить\" + 0.028*\"лицензия\" + 0.026*\"правительство\" + 0.024*\"правило\" + 0.019*\"счeт\" + 0.018*\"требование\" + 0.018*\"капитал\" + 0.016*\"смартфон\"\n",
      "\n",
      "\n",
      "Topic: 5 \n",
      "Words: 0.056*\"москва\" + 0.037*\"покупка\" + 0.034*\"страхование\" + 0.033*\"путин\" + 0.029*\"иск\" + 0.027*\"долг\" + 0.026*\"срок\" + 0.024*\"раз\" + 0.023*\"взнос\" + 0.021*\"программа\"\n",
      "\n",
      "\n",
      "Topic: 6 \n",
      "Words: 0.071*\"год\" + 0.071*\"россия\" + 0.058*\"бизнес\" + 0.052*\"компания\" + 0.043*\"редакция\" + 0.039*\"мочь\" + 0.031*\"быть\" + 0.030*\"банк\" + 0.024*\"млн\" + 0.024*\"рынок\"\n",
      "\n",
      "\n",
      "Topic: 7 \n",
      "Words: 0.061*\"ип\" + 0.058*\"стать\" + 0.041*\"предприниматель\" + 0.031*\"поддержка\" + 0.031*\"юрлицо\" + 0.026*\"глава\" + 0.026*\"законопроект\" + 0.023*\"объeм\" + 0.022*\"открыть\" + 0.021*\"центр\"\n",
      "\n",
      "\n",
      "Topic: 8 \n",
      "Words: 0.146*\"рубль\" + 0.058*\"вырасти\" + 0.050*\"налог\" + 0.045*\"сервис\" + 0.035*\"втб\" + 0.029*\"карта\" + 0.023*\"маркировка\" + 0.023*\"доллар\" + 0.022*\"деньга\" + 0.021*\"появиться\"\n",
      "\n",
      "\n",
      "Topic: 9 \n",
      "Words: 0.092*\"статья\" + 0.038*\"суд\" + 0.036*\"работа\" + 0.030*\"сотрудник\" + 0.028*\"работник\" + 0.026*\"хотеть\" + 0.025*\"начать\" + 0.024*\"работодатель\" + 0.019*\"мегафон\" + 0.016*\"директор\"\n",
      "\n",
      "\n"
     ]
    }
   ],
   "source": [
    "for idx, topic in model.print_topics(num_topics = 20):\n",
    "    print(\"Topic: {} \\nWords: {}\".format(idx, topic))\n",
    "    print(\"\\n\")"
   ]
  },
  {
   "cell_type": "code",
   "execution_count": null,
   "metadata": {},
   "outputs": [],
   "source": []
  }
 ],
 "metadata": {
  "colab": {
   "provenance": []
  },
  "kernelspec": {
   "display_name": "Python 3 (ipykernel)",
   "language": "python",
   "name": "python3"
  },
  "language_info": {
   "codemirror_mode": {
    "name": "ipython",
    "version": 3
   },
   "file_extension": ".py",
   "mimetype": "text/x-python",
   "name": "python",
   "nbconvert_exporter": "python",
   "pygments_lexer": "ipython3",
   "version": "3.9.13"
  },
  "widgets": {
   "application/vnd.jupyter.widget-state+json": {
    "1b7505b94c8d44d1a64c47b7c63f9191": {
     "model_module": "@jupyter-widgets/controls",
     "model_module_version": "1.5.0",
     "model_name": "FloatProgressModel",
     "state": {
      "_dom_classes": [],
      "_model_module": "@jupyter-widgets/controls",
      "_model_module_version": "1.5.0",
      "_model_name": "FloatProgressModel",
      "_view_count": null,
      "_view_module": "@jupyter-widgets/controls",
      "_view_module_version": "1.5.0",
      "_view_name": "ProgressView",
      "bar_style": "success",
      "description": "",
      "description_tooltip": null,
      "layout": "IPY_MODEL_22239460fa68406d98e8e74c98960c3d",
      "max": 119228,
      "min": 0,
      "orientation": "horizontal",
      "style": "IPY_MODEL_28404e27c6b24416b702a631edb3f9b5",
      "value": 119228
     }
    },
    "22239460fa68406d98e8e74c98960c3d": {
     "model_module": "@jupyter-widgets/base",
     "model_module_version": "1.2.0",
     "model_name": "LayoutModel",
     "state": {
      "_model_module": "@jupyter-widgets/base",
      "_model_module_version": "1.2.0",
      "_model_name": "LayoutModel",
      "_view_count": null,
      "_view_module": "@jupyter-widgets/base",
      "_view_module_version": "1.2.0",
      "_view_name": "LayoutView",
      "align_content": null,
      "align_items": null,
      "align_self": null,
      "border": null,
      "bottom": null,
      "display": null,
      "flex": null,
      "flex_flow": null,
      "grid_area": null,
      "grid_auto_columns": null,
      "grid_auto_flow": null,
      "grid_auto_rows": null,
      "grid_column": null,
      "grid_gap": null,
      "grid_row": null,
      "grid_template_areas": null,
      "grid_template_columns": null,
      "grid_template_rows": null,
      "height": null,
      "justify_content": null,
      "justify_items": null,
      "left": null,
      "margin": null,
      "max_height": null,
      "max_width": null,
      "min_height": null,
      "min_width": null,
      "object_fit": null,
      "object_position": null,
      "order": null,
      "overflow": null,
      "overflow_x": null,
      "overflow_y": null,
      "padding": null,
      "right": null,
      "top": null,
      "visibility": null,
      "width": null
     }
    },
    "28404e27c6b24416b702a631edb3f9b5": {
     "model_module": "@jupyter-widgets/controls",
     "model_module_version": "1.5.0",
     "model_name": "ProgressStyleModel",
     "state": {
      "_model_module": "@jupyter-widgets/controls",
      "_model_module_version": "1.5.0",
      "_model_name": "ProgressStyleModel",
      "_view_count": null,
      "_view_module": "@jupyter-widgets/base",
      "_view_module_version": "1.2.0",
      "_view_name": "StyleView",
      "bar_color": null,
      "description_width": ""
     }
    },
    "29253cb021f84cd6acd84816dc33107e": {
     "model_module": "@jupyter-widgets/controls",
     "model_module_version": "1.5.0",
     "model_name": "DescriptionStyleModel",
     "state": {
      "_model_module": "@jupyter-widgets/controls",
      "_model_module_version": "1.5.0",
      "_model_name": "DescriptionStyleModel",
      "_view_count": null,
      "_view_module": "@jupyter-widgets/base",
      "_view_module_version": "1.2.0",
      "_view_name": "StyleView",
      "description_width": ""
     }
    },
    "3d588b46eb534927bbfa5c87bf7cd927": {
     "model_module": "@jupyter-widgets/controls",
     "model_module_version": "1.5.0",
     "model_name": "DescriptionStyleModel",
     "state": {
      "_model_module": "@jupyter-widgets/controls",
      "_model_module_version": "1.5.0",
      "_model_name": "DescriptionStyleModel",
      "_view_count": null,
      "_view_module": "@jupyter-widgets/base",
      "_view_module_version": "1.2.0",
      "_view_name": "StyleView",
      "description_width": ""
     }
    },
    "42d25e5ee5704892ac62fde0c88d747b": {
     "model_module": "@jupyter-widgets/base",
     "model_module_version": "1.2.0",
     "model_name": "LayoutModel",
     "state": {
      "_model_module": "@jupyter-widgets/base",
      "_model_module_version": "1.2.0",
      "_model_name": "LayoutModel",
      "_view_count": null,
      "_view_module": "@jupyter-widgets/base",
      "_view_module_version": "1.2.0",
      "_view_name": "LayoutView",
      "align_content": null,
      "align_items": null,
      "align_self": null,
      "border": null,
      "bottom": null,
      "display": null,
      "flex": null,
      "flex_flow": null,
      "grid_area": null,
      "grid_auto_columns": null,
      "grid_auto_flow": null,
      "grid_auto_rows": null,
      "grid_column": null,
      "grid_gap": null,
      "grid_row": null,
      "grid_template_areas": null,
      "grid_template_columns": null,
      "grid_template_rows": null,
      "height": null,
      "justify_content": null,
      "justify_items": null,
      "left": null,
      "margin": null,
      "max_height": null,
      "max_width": null,
      "min_height": null,
      "min_width": null,
      "object_fit": null,
      "object_position": null,
      "order": null,
      "overflow": null,
      "overflow_x": null,
      "overflow_y": null,
      "padding": null,
      "right": null,
      "top": null,
      "visibility": null,
      "width": null
     }
    },
    "4c537c61085b47379f52a862f61ad090": {
     "model_module": "@jupyter-widgets/controls",
     "model_module_version": "1.5.0",
     "model_name": "HTMLModel",
     "state": {
      "_dom_classes": [],
      "_model_module": "@jupyter-widgets/controls",
      "_model_module_version": "1.5.0",
      "_model_name": "HTMLModel",
      "_view_count": null,
      "_view_module": "@jupyter-widgets/controls",
      "_view_module_version": "1.5.0",
      "_view_name": "HTMLView",
      "description": "",
      "description_tooltip": null,
      "layout": "IPY_MODEL_8790e77f448043da87bdef134629002a",
      "placeholder": "​",
      "style": "IPY_MODEL_3d588b46eb534927bbfa5c87bf7cd927",
      "value": " 119228/119228 [03:47&lt;00:00, 564.99it/s]"
     }
    },
    "5d2626b254284bf1bb4c04f4b8d45742": {
     "model_module": "@jupyter-widgets/controls",
     "model_module_version": "1.5.0",
     "model_name": "HTMLModel",
     "state": {
      "_dom_classes": [],
      "_model_module": "@jupyter-widgets/controls",
      "_model_module_version": "1.5.0",
      "_model_name": "HTMLModel",
      "_view_count": null,
      "_view_module": "@jupyter-widgets/controls",
      "_view_module_version": "1.5.0",
      "_view_name": "HTMLView",
      "description": "",
      "description_tooltip": null,
      "layout": "IPY_MODEL_42d25e5ee5704892ac62fde0c88d747b",
      "placeholder": "​",
      "style": "IPY_MODEL_29253cb021f84cd6acd84816dc33107e",
      "value": "100%"
     }
    },
    "8790e77f448043da87bdef134629002a": {
     "model_module": "@jupyter-widgets/base",
     "model_module_version": "1.2.0",
     "model_name": "LayoutModel",
     "state": {
      "_model_module": "@jupyter-widgets/base",
      "_model_module_version": "1.2.0",
      "_model_name": "LayoutModel",
      "_view_count": null,
      "_view_module": "@jupyter-widgets/base",
      "_view_module_version": "1.2.0",
      "_view_name": "LayoutView",
      "align_content": null,
      "align_items": null,
      "align_self": null,
      "border": null,
      "bottom": null,
      "display": null,
      "flex": null,
      "flex_flow": null,
      "grid_area": null,
      "grid_auto_columns": null,
      "grid_auto_flow": null,
      "grid_auto_rows": null,
      "grid_column": null,
      "grid_gap": null,
      "grid_row": null,
      "grid_template_areas": null,
      "grid_template_columns": null,
      "grid_template_rows": null,
      "height": null,
      "justify_content": null,
      "justify_items": null,
      "left": null,
      "margin": null,
      "max_height": null,
      "max_width": null,
      "min_height": null,
      "min_width": null,
      "object_fit": null,
      "object_position": null,
      "order": null,
      "overflow": null,
      "overflow_x": null,
      "overflow_y": null,
      "padding": null,
      "right": null,
      "top": null,
      "visibility": null,
      "width": null
     }
    },
    "95f08a05a7c440f58dabf97a12cb9ca5": {
     "model_module": "@jupyter-widgets/base",
     "model_module_version": "1.2.0",
     "model_name": "LayoutModel",
     "state": {
      "_model_module": "@jupyter-widgets/base",
      "_model_module_version": "1.2.0",
      "_model_name": "LayoutModel",
      "_view_count": null,
      "_view_module": "@jupyter-widgets/base",
      "_view_module_version": "1.2.0",
      "_view_name": "LayoutView",
      "align_content": null,
      "align_items": null,
      "align_self": null,
      "border": null,
      "bottom": null,
      "display": null,
      "flex": null,
      "flex_flow": null,
      "grid_area": null,
      "grid_auto_columns": null,
      "grid_auto_flow": null,
      "grid_auto_rows": null,
      "grid_column": null,
      "grid_gap": null,
      "grid_row": null,
      "grid_template_areas": null,
      "grid_template_columns": null,
      "grid_template_rows": null,
      "height": null,
      "justify_content": null,
      "justify_items": null,
      "left": null,
      "margin": null,
      "max_height": null,
      "max_width": null,
      "min_height": null,
      "min_width": null,
      "object_fit": null,
      "object_position": null,
      "order": null,
      "overflow": null,
      "overflow_x": null,
      "overflow_y": null,
      "padding": null,
      "right": null,
      "top": null,
      "visibility": null,
      "width": null
     }
    },
    "bc3f44b5a3c044858a4fae6f5b362e03": {
     "model_module": "@jupyter-widgets/controls",
     "model_module_version": "1.5.0",
     "model_name": "HBoxModel",
     "state": {
      "_dom_classes": [],
      "_model_module": "@jupyter-widgets/controls",
      "_model_module_version": "1.5.0",
      "_model_name": "HBoxModel",
      "_view_count": null,
      "_view_module": "@jupyter-widgets/controls",
      "_view_module_version": "1.5.0",
      "_view_name": "HBoxView",
      "box_style": "",
      "children": [
       "IPY_MODEL_5d2626b254284bf1bb4c04f4b8d45742",
       "IPY_MODEL_1b7505b94c8d44d1a64c47b7c63f9191",
       "IPY_MODEL_4c537c61085b47379f52a862f61ad090"
      ],
      "layout": "IPY_MODEL_95f08a05a7c440f58dabf97a12cb9ca5"
     }
    }
   }
  }
 },
 "nbformat": 4,
 "nbformat_minor": 4
}
