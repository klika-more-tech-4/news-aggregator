{
 "cells": [
  {
   "cell_type": "code",
   "execution_count": 1,
   "metadata": {
    "id": "4kxhokRJgXP2"
   },
   "outputs": [],
   "source": [
    "%%capture\n",
    "! pip install pyLDAvis\n",
    "! pip install pymorphy2"
   ]
  },
  {
   "cell_type": "code",
   "execution_count": 2,
   "metadata": {
    "colab": {
     "base_uri": "https://localhost:8080/"
    },
    "id": "UvIgq1CqfVsh",
    "outputId": "4235abfd-bd66-4882-fd40-ef18a76671cc"
   },
   "outputs": [
    {
     "name": "stderr",
     "output_type": "stream",
     "text": [
      "/opt/conda/lib/python3.9/site-packages/past/types/oldstr.py:23: DeprecationWarning: invalid escape sequence \\d\n",
      "  \"\"\"\n",
      "/opt/conda/lib/python3.9/site-packages/past/builtins/misc.py:45: DeprecationWarning: the imp module is deprecated in favour of importlib; see the module's documentation for alternative uses\n",
      "  from imp import reload\n",
      "[nltk_data] Error loading stopwords: <urlopen error [Errno 104]\n",
      "[nltk_data]     Connection reset by peer>\n"
     ]
    }
   ],
   "source": [
    "from gensim.test.utils import common_corpus\n",
    "from gensim.models import LdaSeqModel\n",
    "import gensim\n",
    "import pickle\n",
    "import pyLDAvis.gensim_models as gensimvis\n",
    "import pyLDAvis\n",
    "import warnings\n",
    "import json\n",
    "import pymorphy2\n",
    "import nltk\n",
    "import re \n",
    "from tqdm.notebook import tqdm\n",
    "from nltk.corpus import stopwords\n",
    "from pymystem3 import Mystem\n",
    "from string import punctuation\n",
    "import nltk\n",
    "from nltk import ngrams\n",
    "import time\n",
    "import dateutil.parser as dp\n",
    "nltk.download('stopwords')\n",
    "import pandas as pd\n",
    "from sklearn.model_selection import train_test_split\n",
    "import datetime\n",
    "\n",
    "russian_stopwords = stopwords.words(\"russian\")\n",
    "warnings.filterwarnings(\"ignore\", category=DeprecationWarning)"
   ]
  },
  {
   "cell_type": "code",
   "execution_count": 4,
   "metadata": {
    "id": "e4YHOufakwmD"
   },
   "outputs": [],
   "source": [
    "row_data = pd.read_json(\"/home/jovyan/work/outputs.jsonl\", lines = True, orient = 'records')"
   ]
  },
  {
   "cell_type": "code",
   "execution_count": null,
   "metadata": {
    "colab": {
     "base_uri": "https://localhost:8080/",
     "height": 936
    },
    "id": "wr8bs93Hk_cQ",
    "outputId": "2d69d680-f16a-4629-fb19-d3fd28fc9128"
   },
   "outputs": [],
   "source": [
    "row_data"
   ]
  },
  {
   "cell_type": "code",
   "execution_count": 6,
   "metadata": {
    "id": "RxeNfIT-oHBJ"
   },
   "outputs": [],
   "source": [
    "class Preparator():\n",
    "    def __init__(self):\n",
    "        self.morph = pymorphy2.MorphAnalyzer()\n",
    "        self.tokenizer = nltk.WordPunctTokenizer()\n",
    "        self.regexp = re.compile('[-%-,_\\.\\n\\\\\\t\\r/\\W]')  # оставляет только буквы и цифры\n",
    "        self.pos_decoder = {\"ADJF\": \"ADJ\",\n",
    "                            'ADJS': 'ADJ',\n",
    "                            'COMP': 'ADJ',\n",
    "                            'INFN': 'VERB',\n",
    "                            'PRTF': 'VERB'}\n",
    "\n",
    "    def norm_word(self, word: str) -> str:\n",
    "        w = str(re.sub(' +', ' ', self.regexp.sub(' ', word.lower()))).strip()\n",
    "        if len(w) > 1 and w[0].isalpha():\n",
    "            parsed = self.morph.parse(w)[0]\n",
    "            tag = str(parsed.tag.POS)\n",
    "            if tag not in ['NPRO', 'PRED', 'PREP', 'CONJ', 'PRCL', 'INTJ']:\n",
    "                tag = tag if tag not in self.pos_decoder else self.pos_decoder[tag]\n",
    "                return parsed.normal_form.replace('ё', 'e')\n",
    "        return ''\n",
    "    \n",
    "    def norm_sentence(self, sentence: str):\n",
    "        tokens = list(filter(lambda x: len(x), [self.norm_word(word) for word in self.tokenizer.tokenize(sentence.lower())]))\n",
    "        # bigrams = ['_'.join(w) for w in  ngrams(tokens,n=2)]\n",
    "        return tokens\n",
    "    \n",
    "        "
   ]
  },
  {
   "cell_type": "code",
   "execution_count": 7,
   "metadata": {
    "colab": {
     "base_uri": "https://localhost:8080/",
     "height": 49,
     "referenced_widgets": [
      "992d3ac849dd467bae497bc594b63fd3",
      "940e24b3726341149946b382e4ca6b31",
      "4c125b8ff3c149cd8e3b9c8e644b8c55",
      "ccc26e0f94304a258c0d8a6f84eb1c07",
      "420ddb6935044ab1a984686e7b18521b",
      "436ee2b3429c481c896d869676ab0417",
      "70e480ff810043419b244ac6a0cdab57",
      "58e7e8d6086644cb877d9461e9be1ac8",
      "b862057498124d48a533be54ab31ebd5",
      "59b3bedc0319402e9d6969fa2e54e349",
      "19933e14ae534c7fbea87aad9901503a"
     ]
    },
    "id": "B-PgDLBAmgro",
    "outputId": "f0e5414c-3a52-457e-bcab-3c79fd2fb128"
   },
   "outputs": [
    {
     "data": {
      "application/vnd.jupyter.widget-view+json": {
       "model_id": "8cc7b58658b44f598a5304231bfed15f",
       "version_major": 2,
       "version_minor": 0
      },
      "text/plain": [
       "  0%|          | 0/119228 [00:00<?, ?it/s]"
      ]
     },
     "metadata": {},
     "output_type": "display_data"
    }
   ],
   "source": [
    "prep = Preparator()\n",
    "texts = [prep.norm_sentence(i) for i in tqdm(row_data['title'])]"
   ]
  },
  {
   "cell_type": "code",
   "execution_count": 8,
   "metadata": {
    "colab": {
     "base_uri": "https://localhost:8080/"
    },
    "id": "0FvbQSeyrIgz",
    "outputId": "070d2d04-f187-49f7-c0ba-f9066736652d"
   },
   "outputs": [
    {
     "data": {
      "text/plain": [
       "link         object\n",
       "text         object\n",
       "title        object\n",
       "source       object\n",
       "timestamp     int64\n",
       "refers_to    object\n",
       "dtype: object"
      ]
     },
     "execution_count": 8,
     "metadata": {},
     "output_type": "execute_result"
    }
   ],
   "source": [
    "row_data.dtypes"
   ]
  },
  {
   "cell_type": "code",
   "execution_count": 9,
   "metadata": {
    "colab": {
     "base_uri": "https://localhost:8080/"
    },
    "id": "3B5O10jBredj",
    "outputId": "1119891b-abad-4be2-b5f1-6ddcf15e79df"
   },
   "outputs": [
    {
     "data": {
      "text/plain": [
       "1665171180000"
      ]
     },
     "execution_count": 9,
     "metadata": {},
     "output_type": "execute_result"
    }
   ],
   "source": [
    "list(row_data.timestamp)[0]"
   ]
  },
  {
   "cell_type": "code",
   "execution_count": 10,
   "metadata": {
    "colab": {
     "base_uri": "https://localhost:8080/"
    },
    "id": "6npGcB30tBQ6",
    "outputId": "44008a41-6649-4cce-91ce-a854122d57d6"
   },
   "outputs": [
    {
     "data": {
      "text/plain": [
       "(-6795364578871, 1665181237000)"
      ]
     },
     "execution_count": 10,
     "metadata": {},
     "output_type": "execute_result"
    }
   ],
   "source": [
    "min(row_data.timestamp), max(row_data.timestamp)"
   ]
  },
  {
   "cell_type": "code",
   "execution_count": 23,
   "metadata": {
    "id": "bFW-vHJ3qKwu"
   },
   "outputs": [],
   "source": [
    "row_data['normed_text'] = texts\n",
    "row_data['slice'] = [datetime.datetime.utcfromtimestamp(ts//1000).year for ts in row_data['timestamp']]\n",
    "train, test = train_test_split(row_data, test_size=0.7, random_state=42, shuffle = True)"
   ]
  },
  {
   "cell_type": "code",
   "execution_count": 24,
   "metadata": {
    "colab": {
     "base_uri": "https://localhost:8080/"
    },
    "id": "t-BVZyPlsaeV",
    "outputId": "eaee0957-ea76-47e0-b0c4-b710d4db646e"
   },
   "outputs": [
    {
     "data": {
      "text/plain": [
       "2022    32376\n",
       "2018    12735\n",
       "2021    10610\n",
       "2019    10352\n",
       "2020     9473\n",
       "2017     9171\n",
       "2016     7527\n",
       "2015     5419\n",
       "2008     4302\n",
       "2009     3412\n",
       "2011     3378\n",
       "2010     3134\n",
       "2014     2570\n",
       "2012     2188\n",
       "2013     2041\n",
       "2007      536\n",
       "1754        4\n",
       "Name: slice, dtype: int64"
      ]
     },
     "execution_count": 24,
     "metadata": {},
     "output_type": "execute_result"
    }
   ],
   "source": [
    "row_data.slice.value_counts()"
   ]
  },
  {
   "cell_type": "code",
   "execution_count": 25,
   "metadata": {
    "colab": {
     "base_uri": "https://localhost:8080/"
    },
    "id": "mFKGFfKHqZZ-",
    "outputId": "8471ff70-a5b7-451d-f3e6-155db0ce7e13"
   },
   "outputs": [
    {
     "data": {
      "text/plain": [
       "1296739500000"
      ]
     },
     "execution_count": 25,
     "metadata": {},
     "output_type": "execute_result"
    }
   ],
   "source": [
    "list(test.timestamp)[0]"
   ]
  },
  {
   "cell_type": "code",
   "execution_count": 26,
   "metadata": {
    "id": "MkgEb1q2ofpg"
   },
   "outputs": [],
   "source": [
    "dictionary = gensim.corpora.Dictionary(train.normed_text)\n",
    "doc_term_matrix = [dictionary.doc2bow(doc) for doc in train.normed_text]\n",
    "time_slice = train.slice\n",
    "num_topics = 20"
   ]
  },
  {
   "cell_type": "code",
   "execution_count": 27,
   "metadata": {},
   "outputs": [
    {
     "data": {
      "text/plain": [
       "(310298, 35768, 308721)"
      ]
     },
     "execution_count": 27,
     "metadata": {},
     "output_type": "execute_result"
    }
   ],
   "source": [
    "dictionary.num_pos, dictionary.num_docs, dictionary.num_nnz"
   ]
  },
  {
   "cell_type": "code",
   "execution_count": null,
   "metadata": {
    "id": "qaQbd8Knt0FM"
   },
   "outputs": [],
   "source": [
    "%%time\n",
    "ldaseq = LdaSeqModel(corpus=doc_term_matrix, id2word=dictionary, time_slice=time_slice, num_topics=num_topics)\n",
    "with open('/home/jovyan/work/ldaseq2.pkl', 'wb') as f:\n",
    "     pickle.dump(ldaseq, f)"
   ]
  },
  {
   "cell_type": "code",
   "execution_count": null,
   "metadata": {
    "id": "m-HmgVtft7y7"
   },
   "outputs": [],
   "source": []
  }
 ],
 "metadata": {
  "colab": {
   "provenance": []
  },
  "kernelspec": {
   "display_name": "Python 3 (ipykernel)",
   "language": "python",
   "name": "python3"
  },
  "language_info": {
   "codemirror_mode": {
    "name": "ipython",
    "version": 3
   },
   "file_extension": ".py",
   "mimetype": "text/x-python",
   "name": "python",
   "nbconvert_exporter": "python",
   "pygments_lexer": "ipython3",
   "version": "3.9.13"
  },
  "widgets": {
   "application/vnd.jupyter.widget-state+json": {
    "19933e14ae534c7fbea87aad9901503a": {
     "model_module": "@jupyter-widgets/controls",
     "model_module_version": "1.5.0",
     "model_name": "DescriptionStyleModel",
     "state": {
      "_model_module": "@jupyter-widgets/controls",
      "_model_module_version": "1.5.0",
      "_model_name": "DescriptionStyleModel",
      "_view_count": null,
      "_view_module": "@jupyter-widgets/base",
      "_view_module_version": "1.2.0",
      "_view_name": "StyleView",
      "description_width": ""
     }
    },
    "420ddb6935044ab1a984686e7b18521b": {
     "model_module": "@jupyter-widgets/base",
     "model_module_version": "1.2.0",
     "model_name": "LayoutModel",
     "state": {
      "_model_module": "@jupyter-widgets/base",
      "_model_module_version": "1.2.0",
      "_model_name": "LayoutModel",
      "_view_count": null,
      "_view_module": "@jupyter-widgets/base",
      "_view_module_version": "1.2.0",
      "_view_name": "LayoutView",
      "align_content": null,
      "align_items": null,
      "align_self": null,
      "border": null,
      "bottom": null,
      "display": null,
      "flex": null,
      "flex_flow": null,
      "grid_area": null,
      "grid_auto_columns": null,
      "grid_auto_flow": null,
      "grid_auto_rows": null,
      "grid_column": null,
      "grid_gap": null,
      "grid_row": null,
      "grid_template_areas": null,
      "grid_template_columns": null,
      "grid_template_rows": null,
      "height": null,
      "justify_content": null,
      "justify_items": null,
      "left": null,
      "margin": null,
      "max_height": null,
      "max_width": null,
      "min_height": null,
      "min_width": null,
      "object_fit": null,
      "object_position": null,
      "order": null,
      "overflow": null,
      "overflow_x": null,
      "overflow_y": null,
      "padding": null,
      "right": null,
      "top": null,
      "visibility": null,
      "width": null
     }
    },
    "436ee2b3429c481c896d869676ab0417": {
     "model_module": "@jupyter-widgets/base",
     "model_module_version": "1.2.0",
     "model_name": "LayoutModel",
     "state": {
      "_model_module": "@jupyter-widgets/base",
      "_model_module_version": "1.2.0",
      "_model_name": "LayoutModel",
      "_view_count": null,
      "_view_module": "@jupyter-widgets/base",
      "_view_module_version": "1.2.0",
      "_view_name": "LayoutView",
      "align_content": null,
      "align_items": null,
      "align_self": null,
      "border": null,
      "bottom": null,
      "display": null,
      "flex": null,
      "flex_flow": null,
      "grid_area": null,
      "grid_auto_columns": null,
      "grid_auto_flow": null,
      "grid_auto_rows": null,
      "grid_column": null,
      "grid_gap": null,
      "grid_row": null,
      "grid_template_areas": null,
      "grid_template_columns": null,
      "grid_template_rows": null,
      "height": null,
      "justify_content": null,
      "justify_items": null,
      "left": null,
      "margin": null,
      "max_height": null,
      "max_width": null,
      "min_height": null,
      "min_width": null,
      "object_fit": null,
      "object_position": null,
      "order": null,
      "overflow": null,
      "overflow_x": null,
      "overflow_y": null,
      "padding": null,
      "right": null,
      "top": null,
      "visibility": null,
      "width": null
     }
    },
    "4c125b8ff3c149cd8e3b9c8e644b8c55": {
     "model_module": "@jupyter-widgets/controls",
     "model_module_version": "1.5.0",
     "model_name": "FloatProgressModel",
     "state": {
      "_dom_classes": [],
      "_model_module": "@jupyter-widgets/controls",
      "_model_module_version": "1.5.0",
      "_model_name": "FloatProgressModel",
      "_view_count": null,
      "_view_module": "@jupyter-widgets/controls",
      "_view_module_version": "1.5.0",
      "_view_name": "ProgressView",
      "bar_style": "success",
      "description": "",
      "description_tooltip": null,
      "layout": "IPY_MODEL_58e7e8d6086644cb877d9461e9be1ac8",
      "max": 119228,
      "min": 0,
      "orientation": "horizontal",
      "style": "IPY_MODEL_b862057498124d48a533be54ab31ebd5",
      "value": 119228
     }
    },
    "58e7e8d6086644cb877d9461e9be1ac8": {
     "model_module": "@jupyter-widgets/base",
     "model_module_version": "1.2.0",
     "model_name": "LayoutModel",
     "state": {
      "_model_module": "@jupyter-widgets/base",
      "_model_module_version": "1.2.0",
      "_model_name": "LayoutModel",
      "_view_count": null,
      "_view_module": "@jupyter-widgets/base",
      "_view_module_version": "1.2.0",
      "_view_name": "LayoutView",
      "align_content": null,
      "align_items": null,
      "align_self": null,
      "border": null,
      "bottom": null,
      "display": null,
      "flex": null,
      "flex_flow": null,
      "grid_area": null,
      "grid_auto_columns": null,
      "grid_auto_flow": null,
      "grid_auto_rows": null,
      "grid_column": null,
      "grid_gap": null,
      "grid_row": null,
      "grid_template_areas": null,
      "grid_template_columns": null,
      "grid_template_rows": null,
      "height": null,
      "justify_content": null,
      "justify_items": null,
      "left": null,
      "margin": null,
      "max_height": null,
      "max_width": null,
      "min_height": null,
      "min_width": null,
      "object_fit": null,
      "object_position": null,
      "order": null,
      "overflow": null,
      "overflow_x": null,
      "overflow_y": null,
      "padding": null,
      "right": null,
      "top": null,
      "visibility": null,
      "width": null
     }
    },
    "59b3bedc0319402e9d6969fa2e54e349": {
     "model_module": "@jupyter-widgets/base",
     "model_module_version": "1.2.0",
     "model_name": "LayoutModel",
     "state": {
      "_model_module": "@jupyter-widgets/base",
      "_model_module_version": "1.2.0",
      "_model_name": "LayoutModel",
      "_view_count": null,
      "_view_module": "@jupyter-widgets/base",
      "_view_module_version": "1.2.0",
      "_view_name": "LayoutView",
      "align_content": null,
      "align_items": null,
      "align_self": null,
      "border": null,
      "bottom": null,
      "display": null,
      "flex": null,
      "flex_flow": null,
      "grid_area": null,
      "grid_auto_columns": null,
      "grid_auto_flow": null,
      "grid_auto_rows": null,
      "grid_column": null,
      "grid_gap": null,
      "grid_row": null,
      "grid_template_areas": null,
      "grid_template_columns": null,
      "grid_template_rows": null,
      "height": null,
      "justify_content": null,
      "justify_items": null,
      "left": null,
      "margin": null,
      "max_height": null,
      "max_width": null,
      "min_height": null,
      "min_width": null,
      "object_fit": null,
      "object_position": null,
      "order": null,
      "overflow": null,
      "overflow_x": null,
      "overflow_y": null,
      "padding": null,
      "right": null,
      "top": null,
      "visibility": null,
      "width": null
     }
    },
    "70e480ff810043419b244ac6a0cdab57": {
     "model_module": "@jupyter-widgets/controls",
     "model_module_version": "1.5.0",
     "model_name": "DescriptionStyleModel",
     "state": {
      "_model_module": "@jupyter-widgets/controls",
      "_model_module_version": "1.5.0",
      "_model_name": "DescriptionStyleModel",
      "_view_count": null,
      "_view_module": "@jupyter-widgets/base",
      "_view_module_version": "1.2.0",
      "_view_name": "StyleView",
      "description_width": ""
     }
    },
    "940e24b3726341149946b382e4ca6b31": {
     "model_module": "@jupyter-widgets/controls",
     "model_module_version": "1.5.0",
     "model_name": "HTMLModel",
     "state": {
      "_dom_classes": [],
      "_model_module": "@jupyter-widgets/controls",
      "_model_module_version": "1.5.0",
      "_model_name": "HTMLModel",
      "_view_count": null,
      "_view_module": "@jupyter-widgets/controls",
      "_view_module_version": "1.5.0",
      "_view_name": "HTMLView",
      "description": "",
      "description_tooltip": null,
      "layout": "IPY_MODEL_436ee2b3429c481c896d869676ab0417",
      "placeholder": "​",
      "style": "IPY_MODEL_70e480ff810043419b244ac6a0cdab57",
      "value": "100%"
     }
    },
    "992d3ac849dd467bae497bc594b63fd3": {
     "model_module": "@jupyter-widgets/controls",
     "model_module_version": "1.5.0",
     "model_name": "HBoxModel",
     "state": {
      "_dom_classes": [],
      "_model_module": "@jupyter-widgets/controls",
      "_model_module_version": "1.5.0",
      "_model_name": "HBoxModel",
      "_view_count": null,
      "_view_module": "@jupyter-widgets/controls",
      "_view_module_version": "1.5.0",
      "_view_name": "HBoxView",
      "box_style": "",
      "children": [
       "IPY_MODEL_940e24b3726341149946b382e4ca6b31",
       "IPY_MODEL_4c125b8ff3c149cd8e3b9c8e644b8c55",
       "IPY_MODEL_ccc26e0f94304a258c0d8a6f84eb1c07"
      ],
      "layout": "IPY_MODEL_420ddb6935044ab1a984686e7b18521b"
     }
    },
    "b862057498124d48a533be54ab31ebd5": {
     "model_module": "@jupyter-widgets/controls",
     "model_module_version": "1.5.0",
     "model_name": "ProgressStyleModel",
     "state": {
      "_model_module": "@jupyter-widgets/controls",
      "_model_module_version": "1.5.0",
      "_model_name": "ProgressStyleModel",
      "_view_count": null,
      "_view_module": "@jupyter-widgets/base",
      "_view_module_version": "1.2.0",
      "_view_name": "StyleView",
      "bar_color": null,
      "description_width": ""
     }
    },
    "ccc26e0f94304a258c0d8a6f84eb1c07": {
     "model_module": "@jupyter-widgets/controls",
     "model_module_version": "1.5.0",
     "model_name": "HTMLModel",
     "state": {
      "_dom_classes": [],
      "_model_module": "@jupyter-widgets/controls",
      "_model_module_version": "1.5.0",
      "_model_name": "HTMLModel",
      "_view_count": null,
      "_view_module": "@jupyter-widgets/controls",
      "_view_module_version": "1.5.0",
      "_view_name": "HTMLView",
      "description": "",
      "description_tooltip": null,
      "layout": "IPY_MODEL_59b3bedc0319402e9d6969fa2e54e349",
      "placeholder": "​",
      "style": "IPY_MODEL_19933e14ae534c7fbea87aad9901503a",
      "value": " 119228/119228 [05:13&lt;00:00, 449.66it/s]"
     }
    }
   }
  }
 },
 "nbformat": 4,
 "nbformat_minor": 4
}
